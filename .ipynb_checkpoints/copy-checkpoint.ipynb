{
 "cells": [
  {
   "cell_type": "code",
   "execution_count": 1,
   "metadata": {
    "colab": {},
    "colab_type": "code",
    "id": "k1iaDMoSXWI-"
   },
   "outputs": [],
   "source": [
    "# basic libraries import\n",
    "import os\n",
    "import glob\n",
    "import sys\n",
    "import pandas as pd\n",
    "import numpy as np\n",
    "\n",
    "#reading data\n",
    "import json\n",
    "\n",
    "# Plotting libraries and parameters\n",
    "import matplotlib.pyplot as plt\n",
    "import seaborn as sns\n",
    "\n",
    "import matplotlib\n",
    "matplotlib.rc('figure', figsize = (20, 8))\n",
    "matplotlib.rc('font', size = 14)\n",
    "matplotlib.rc('axes.spines', top = False, right = False)\n",
    "matplotlib.rc('axes', grid = False)\n",
    "matplotlib.rc('axes', facecolor = 'white')\n",
    "\n",
    "#text preprocessing\n",
    "import re\n",
    "\n",
    "# handling missing value\n",
    "import missingno as msno"
   ]
  },
  {
   "cell_type": "code",
   "execution_count": 2,
   "metadata": {
    "colab": {},
    "colab_type": "code",
    "id": "Um-LB7tcYocm"
   },
   "outputs": [],
   "source": [
    "BASE_PATH = \"./Data/\"\n",
    "BASE_MODEL_PATH = \"./Model/\""
   ]
  },
  {
   "cell_type": "code",
   "execution_count": 3,
   "metadata": {
    "colab": {},
    "colab_type": "code",
    "id": "acncivS4Y0Gn"
   },
   "outputs": [],
   "source": [
    "all_filenames = []\n",
    "for filename in glob.iglob(os.path.join(BASE_PATH, \"*.json\"), recursive = True):\n",
    "  all_filenames.append(filename)"
   ]
  },
  {
   "cell_type": "code",
   "execution_count": 4,
   "metadata": {
    "colab": {},
    "colab_type": "code",
    "id": "7u9tW4N5vhkl"
   },
   "outputs": [],
   "source": [
    "modcloth_df = pd.read_json(all_filenames[0], lines = True) #by above data reading technique,\n",
    "# we were not able to identify right attribute type for the columns"
   ]
  },
  {
   "cell_type": "code",
   "execution_count": 5,
   "metadata": {
    "colab": {},
    "colab_type": "code",
    "id": "rbQllAqqTQav"
   },
   "outputs": [],
   "source": [
    "# Changing column names and removing unecessary spaces\n",
    "modcloth_df.columns = [x.replace(\" \",\"_\") for x in modcloth_df.columns]"
   ]
  },
  {
   "cell_type": "code",
   "execution_count": 6,
   "metadata": {},
   "outputs": [
    {
     "data": {
      "text/html": [
       "<div>\n",
       "<style scoped>\n",
       "    .dataframe tbody tr th:only-of-type {\n",
       "        vertical-align: middle;\n",
       "    }\n",
       "\n",
       "    .dataframe tbody tr th {\n",
       "        vertical-align: top;\n",
       "    }\n",
       "\n",
       "    .dataframe thead th {\n",
       "        text-align: right;\n",
       "    }\n",
       "</style>\n",
       "<table border=\"1\" class=\"dataframe\">\n",
       "  <thead>\n",
       "    <tr style=\"text-align: right;\">\n",
       "      <th></th>\n",
       "      <th>item_id</th>\n",
       "      <th>waist</th>\n",
       "      <th>size</th>\n",
       "      <th>quality</th>\n",
       "      <th>cup_size</th>\n",
       "      <th>hips</th>\n",
       "      <th>bra_size</th>\n",
       "      <th>category</th>\n",
       "      <th>bust</th>\n",
       "      <th>height</th>\n",
       "      <th>user_name</th>\n",
       "      <th>length</th>\n",
       "      <th>fit</th>\n",
       "      <th>user_id</th>\n",
       "      <th>shoe_size</th>\n",
       "      <th>shoe_width</th>\n",
       "      <th>review_summary</th>\n",
       "      <th>review_text</th>\n",
       "    </tr>\n",
       "  </thead>\n",
       "  <tbody>\n",
       "    <tr>\n",
       "      <th>0</th>\n",
       "      <td>123373</td>\n",
       "      <td>29.0</td>\n",
       "      <td>7</td>\n",
       "      <td>5.0</td>\n",
       "      <td>d</td>\n",
       "      <td>38.0</td>\n",
       "      <td>34.0</td>\n",
       "      <td>new</td>\n",
       "      <td>36</td>\n",
       "      <td>5ft 6in</td>\n",
       "      <td>Emily</td>\n",
       "      <td>just right</td>\n",
       "      <td>small</td>\n",
       "      <td>991571</td>\n",
       "      <td>NaN</td>\n",
       "      <td>NaN</td>\n",
       "      <td>NaN</td>\n",
       "      <td>NaN</td>\n",
       "    </tr>\n",
       "    <tr>\n",
       "      <th>1</th>\n",
       "      <td>123373</td>\n",
       "      <td>31.0</td>\n",
       "      <td>13</td>\n",
       "      <td>3.0</td>\n",
       "      <td>b</td>\n",
       "      <td>30.0</td>\n",
       "      <td>36.0</td>\n",
       "      <td>new</td>\n",
       "      <td>NaN</td>\n",
       "      <td>5ft 2in</td>\n",
       "      <td>sydneybraden2001</td>\n",
       "      <td>just right</td>\n",
       "      <td>small</td>\n",
       "      <td>587883</td>\n",
       "      <td>NaN</td>\n",
       "      <td>NaN</td>\n",
       "      <td>NaN</td>\n",
       "      <td>NaN</td>\n",
       "    </tr>\n",
       "    <tr>\n",
       "      <th>2</th>\n",
       "      <td>123373</td>\n",
       "      <td>30.0</td>\n",
       "      <td>7</td>\n",
       "      <td>2.0</td>\n",
       "      <td>b</td>\n",
       "      <td>NaN</td>\n",
       "      <td>32.0</td>\n",
       "      <td>new</td>\n",
       "      <td>NaN</td>\n",
       "      <td>5ft 7in</td>\n",
       "      <td>Ugggh</td>\n",
       "      <td>slightly long</td>\n",
       "      <td>small</td>\n",
       "      <td>395665</td>\n",
       "      <td>9.0</td>\n",
       "      <td>NaN</td>\n",
       "      <td>NaN</td>\n",
       "      <td>NaN</td>\n",
       "    </tr>\n",
       "    <tr>\n",
       "      <th>3</th>\n",
       "      <td>123373</td>\n",
       "      <td>NaN</td>\n",
       "      <td>21</td>\n",
       "      <td>5.0</td>\n",
       "      <td>dd/e</td>\n",
       "      <td>NaN</td>\n",
       "      <td>NaN</td>\n",
       "      <td>new</td>\n",
       "      <td>NaN</td>\n",
       "      <td>NaN</td>\n",
       "      <td>alexmeyer626</td>\n",
       "      <td>just right</td>\n",
       "      <td>fit</td>\n",
       "      <td>875643</td>\n",
       "      <td>NaN</td>\n",
       "      <td>NaN</td>\n",
       "      <td>NaN</td>\n",
       "      <td>NaN</td>\n",
       "    </tr>\n",
       "    <tr>\n",
       "      <th>4</th>\n",
       "      <td>123373</td>\n",
       "      <td>NaN</td>\n",
       "      <td>18</td>\n",
       "      <td>5.0</td>\n",
       "      <td>b</td>\n",
       "      <td>NaN</td>\n",
       "      <td>36.0</td>\n",
       "      <td>new</td>\n",
       "      <td>NaN</td>\n",
       "      <td>5ft 2in</td>\n",
       "      <td>dberrones1</td>\n",
       "      <td>slightly long</td>\n",
       "      <td>small</td>\n",
       "      <td>944840</td>\n",
       "      <td>NaN</td>\n",
       "      <td>NaN</td>\n",
       "      <td>NaN</td>\n",
       "      <td>NaN</td>\n",
       "    </tr>\n",
       "    <tr>\n",
       "      <th>...</th>\n",
       "      <td>...</td>\n",
       "      <td>...</td>\n",
       "      <td>...</td>\n",
       "      <td>...</td>\n",
       "      <td>...</td>\n",
       "      <td>...</td>\n",
       "      <td>...</td>\n",
       "      <td>...</td>\n",
       "      <td>...</td>\n",
       "      <td>...</td>\n",
       "      <td>...</td>\n",
       "      <td>...</td>\n",
       "      <td>...</td>\n",
       "      <td>...</td>\n",
       "      <td>...</td>\n",
       "      <td>...</td>\n",
       "      <td>...</td>\n",
       "      <td>...</td>\n",
       "    </tr>\n",
       "    <tr>\n",
       "      <th>82785</th>\n",
       "      <td>807722</td>\n",
       "      <td>NaN</td>\n",
       "      <td>8</td>\n",
       "      <td>4.0</td>\n",
       "      <td>b</td>\n",
       "      <td>NaN</td>\n",
       "      <td>36.0</td>\n",
       "      <td>outerwear</td>\n",
       "      <td>NaN</td>\n",
       "      <td>5ft 8in</td>\n",
       "      <td>Jennifer</td>\n",
       "      <td>just right</td>\n",
       "      <td>fit</td>\n",
       "      <td>727820</td>\n",
       "      <td>8.5</td>\n",
       "      <td>average</td>\n",
       "      <td>Cute jacket!</td>\n",
       "      <td>Cute jacket!</td>\n",
       "    </tr>\n",
       "    <tr>\n",
       "      <th>82786</th>\n",
       "      <td>807722</td>\n",
       "      <td>NaN</td>\n",
       "      <td>12</td>\n",
       "      <td>5.0</td>\n",
       "      <td>ddd/f</td>\n",
       "      <td>NaN</td>\n",
       "      <td>34.0</td>\n",
       "      <td>outerwear</td>\n",
       "      <td>NaN</td>\n",
       "      <td>5ft 5in</td>\n",
       "      <td>Kelli</td>\n",
       "      <td>slightly long</td>\n",
       "      <td>small</td>\n",
       "      <td>197040</td>\n",
       "      <td>NaN</td>\n",
       "      <td>NaN</td>\n",
       "      <td>It's a beautiful jacket.</td>\n",
       "      <td>It's a beautiful jacket. I love how it's knit ...</td>\n",
       "    </tr>\n",
       "    <tr>\n",
       "      <th>82787</th>\n",
       "      <td>807722</td>\n",
       "      <td>NaN</td>\n",
       "      <td>12</td>\n",
       "      <td>5.0</td>\n",
       "      <td>dddd/g</td>\n",
       "      <td>36.0</td>\n",
       "      <td>32.0</td>\n",
       "      <td>outerwear</td>\n",
       "      <td>NaN</td>\n",
       "      <td>5ft 4in</td>\n",
       "      <td>elacount</td>\n",
       "      <td>just right</td>\n",
       "      <td>fit</td>\n",
       "      <td>102493</td>\n",
       "      <td>NaN</td>\n",
       "      <td>NaN</td>\n",
       "      <td>I love this blazer. It is</td>\n",
       "      <td>I love this blazer. It is a great office piece...</td>\n",
       "    </tr>\n",
       "    <tr>\n",
       "      <th>82788</th>\n",
       "      <td>807722</td>\n",
       "      <td>NaN</td>\n",
       "      <td>12</td>\n",
       "      <td>4.0</td>\n",
       "      <td>NaN</td>\n",
       "      <td>NaN</td>\n",
       "      <td>NaN</td>\n",
       "      <td>outerwear</td>\n",
       "      <td>NaN</td>\n",
       "      <td>5ft 3in</td>\n",
       "      <td>jennaklinner</td>\n",
       "      <td>just right</td>\n",
       "      <td>fit</td>\n",
       "      <td>756491</td>\n",
       "      <td>NaN</td>\n",
       "      <td>NaN</td>\n",
       "      <td>I love this blazer!! I wo</td>\n",
       "      <td>I love this blazer!! I wore it yesterday and g...</td>\n",
       "    </tr>\n",
       "    <tr>\n",
       "      <th>82789</th>\n",
       "      <td>807722</td>\n",
       "      <td>NaN</td>\n",
       "      <td>4</td>\n",
       "      <td>4.0</td>\n",
       "      <td>d</td>\n",
       "      <td>39.0</td>\n",
       "      <td>32.0</td>\n",
       "      <td>outerwear</td>\n",
       "      <td>NaN</td>\n",
       "      <td>6ft</td>\n",
       "      <td>maireadsteadman</td>\n",
       "      <td>just right</td>\n",
       "      <td>fit</td>\n",
       "      <td>78305</td>\n",
       "      <td>NaN</td>\n",
       "      <td>NaN</td>\n",
       "      <td>I love this piece. I'm re</td>\n",
       "      <td>I love this piece. I'm really happy with it!</td>\n",
       "    </tr>\n",
       "  </tbody>\n",
       "</table>\n",
       "<p>82790 rows × 18 columns</p>\n",
       "</div>"
      ],
      "text/plain": [
       "       item_id  waist  size  quality cup_size  hips  bra_size   category bust  \\\n",
       "0       123373   29.0     7      5.0        d  38.0      34.0        new   36   \n",
       "1       123373   31.0    13      3.0        b  30.0      36.0        new  NaN   \n",
       "2       123373   30.0     7      2.0        b   NaN      32.0        new  NaN   \n",
       "3       123373    NaN    21      5.0     dd/e   NaN       NaN        new  NaN   \n",
       "4       123373    NaN    18      5.0        b   NaN      36.0        new  NaN   \n",
       "...        ...    ...   ...      ...      ...   ...       ...        ...  ...   \n",
       "82785   807722    NaN     8      4.0        b   NaN      36.0  outerwear  NaN   \n",
       "82786   807722    NaN    12      5.0    ddd/f   NaN      34.0  outerwear  NaN   \n",
       "82787   807722    NaN    12      5.0   dddd/g  36.0      32.0  outerwear  NaN   \n",
       "82788   807722    NaN    12      4.0      NaN   NaN       NaN  outerwear  NaN   \n",
       "82789   807722    NaN     4      4.0        d  39.0      32.0  outerwear  NaN   \n",
       "\n",
       "        height         user_name         length    fit  user_id  shoe_size  \\\n",
       "0      5ft 6in             Emily     just right  small   991571        NaN   \n",
       "1      5ft 2in  sydneybraden2001     just right  small   587883        NaN   \n",
       "2      5ft 7in             Ugggh  slightly long  small   395665        9.0   \n",
       "3          NaN      alexmeyer626     just right    fit   875643        NaN   \n",
       "4      5ft 2in        dberrones1  slightly long  small   944840        NaN   \n",
       "...        ...               ...            ...    ...      ...        ...   \n",
       "82785  5ft 8in          Jennifer     just right    fit   727820        8.5   \n",
       "82786  5ft 5in             Kelli  slightly long  small   197040        NaN   \n",
       "82787  5ft 4in          elacount     just right    fit   102493        NaN   \n",
       "82788  5ft 3in      jennaklinner     just right    fit   756491        NaN   \n",
       "82789      6ft   maireadsteadman     just right    fit    78305        NaN   \n",
       "\n",
       "      shoe_width             review_summary  \\\n",
       "0            NaN                        NaN   \n",
       "1            NaN                        NaN   \n",
       "2            NaN                        NaN   \n",
       "3            NaN                        NaN   \n",
       "4            NaN                        NaN   \n",
       "...          ...                        ...   \n",
       "82785    average               Cute jacket!   \n",
       "82786        NaN   It's a beautiful jacket.   \n",
       "82787        NaN  I love this blazer. It is   \n",
       "82788        NaN  I love this blazer!! I wo   \n",
       "82789        NaN  I love this piece. I'm re   \n",
       "\n",
       "                                             review_text  \n",
       "0                                                    NaN  \n",
       "1                                                    NaN  \n",
       "2                                                    NaN  \n",
       "3                                                    NaN  \n",
       "4                                                    NaN  \n",
       "...                                                  ...  \n",
       "82785                                       Cute jacket!  \n",
       "82786  It's a beautiful jacket. I love how it's knit ...  \n",
       "82787  I love this blazer. It is a great office piece...  \n",
       "82788  I love this blazer!! I wore it yesterday and g...  \n",
       "82789       I love this piece. I'm really happy with it!  \n",
       "\n",
       "[82790 rows x 18 columns]"
      ]
     },
     "execution_count": 6,
     "metadata": {},
     "output_type": "execute_result"
    }
   ],
   "source": [
    "modcloth_df"
   ]
  },
  {
   "cell_type": "code",
   "execution_count": 7,
   "metadata": {
    "colab": {
     "base_uri": "https://localhost:8080/",
     "height": 34
    },
    "colab_type": "code",
    "id": "zm7RLdWhWKRz",
    "outputId": "6d733161-fafc-42c5-8936-5971eced0392"
   },
   "outputs": [
    {
     "name": "stdout",
     "output_type": "stream",
     "text": [
      "['36' nan '39' '34' '43' '35' '38' '33' '40' '41' '44' '45' '37' '30' '32'\n",
      " '42' '48' '46' '51' '25' '31' '26' '52' '22' '50' '47' '56' '58' '49'\n",
      " '54' '55' '53' '27' '28' '29' '20' '57' '23' '37-39' '24' '59']\n",
      "['5ft 6in' '5ft 2in' '5ft 7in' nan '5ft 4in' '5ft 3in' '5ft 5in'\n",
      " '5ft 10in' '5ft 8in' '5ft' '5ft 9in' '5ft 1in' '5ft 11in' '4ft 11in'\n",
      " '4ft 10in' '6ft' '3ft 4in' '4ft 9in' '6ft 3in' '6ft 1in' '6ft 2in' '3ft'\n",
      " '4ft 7in' '4ft 4in' '7ft 11in' '4ft 2in' '6ft 6in' '4ft 8in' '6ft 4in'\n",
      " '3ft 11in' '6ft 5in' '7ft 6in' '3ft 6in' '3ft 3in' '6ft 8in' '7ft 5in'\n",
      " '7ft 3in' '7ft 7in' '6ft 7in' '4ft 5in' '3ft 2in' '4ft 6in']\n",
      "['just right' 'slightly long' 'very short' 'slightly short' 'very long'\n",
      " nan]\n",
      "[nan 'wide' 'average' 'narrow']\n"
     ]
    }
   ],
   "source": [
    "# There are some columns that can be converted to numeric datatype but are not \n",
    "# due to some inconsistencies\n",
    "print(modcloth_df[\"bust\"].unique()) #presence of 37-39\n",
    "print(modcloth_df[\"height\"].unique()) # can be converted to cms\n",
    "print(modcloth_df.length.unique()) #these are textual in nature\n",
    "print(modcloth_df.shoe_width.unique()) ##these are textual in nature"
   ]
  },
  {
   "cell_type": "code",
   "execution_count": 8,
   "metadata": {
    "colab": {},
    "colab_type": "code",
    "id": "rVlaixijXN60"
   },
   "outputs": [],
   "source": [
    "def normalize_bust_values(x):\n",
    "  \"\"\" Function to normalize the bust values\"\"\"\n",
    "  try:\n",
    "    if pd.notnull(x):\n",
    "      if \"-\" in x:\n",
    "        assert len(x.split(\"-\")) == 2\n",
    "        return np.mean([int(num) for num in x.split(\"-\")])\n",
    "      else:\n",
    "        return int(x) #Can throw an exception\n",
    "  except Exception as e: \n",
    "    # For anykind of exception return None\n",
    "    return None\n",
    "  return None\n",
    "  \n",
    "def normalize_height_values(x):\n",
    "  \"\"\" Function to normalize the height values\"\"\"\n",
    "  if pd.notnull(x):\n",
    "    try: \n",
    "        return (int(x[0])*30.48) + (int(x[4:-2])*2.54)\n",
    "    except:\n",
    "        return (int(x[0])*30.48) # there can't be a 10ft+ customer,neither was observed\n",
    "  return None\n"
   ]
  },
  {
   "cell_type": "code",
   "execution_count": 9,
   "metadata": {
    "colab": {},
    "colab_type": "code",
    "id": "egSTSN-rYC3V"
   },
   "outputs": [],
   "source": [
    "modcloth_df[\"bust\"] = modcloth_df[\"bust\"].apply(lambda x: normalize_bust_values(x))\n",
    "modcloth_df[\"height\"] = modcloth_df[\"height\"].apply(lambda x: normalize_height_values(x))\n"
   ]
  },
  {
   "cell_type": "code",
   "execution_count": 10,
   "metadata": {
    "colab": {
     "base_uri": "https://localhost:8080/",
     "height": 284
    },
    "colab_type": "code",
    "id": "DeKr9Dq5U721",
    "outputId": "61eff965-b052-4b21-d48c-fc588bcdafd6"
   },
   "outputs": [
    {
     "data": {
      "text/html": [
       "<div>\n",
       "<style scoped>\n",
       "    .dataframe tbody tr th:only-of-type {\n",
       "        vertical-align: middle;\n",
       "    }\n",
       "\n",
       "    .dataframe tbody tr th {\n",
       "        vertical-align: top;\n",
       "    }\n",
       "\n",
       "    .dataframe thead th {\n",
       "        text-align: right;\n",
       "    }\n",
       "</style>\n",
       "<table border=\"1\" class=\"dataframe\">\n",
       "  <thead>\n",
       "    <tr style=\"text-align: right;\">\n",
       "      <th></th>\n",
       "      <th>item_id</th>\n",
       "      <th>waist</th>\n",
       "      <th>size</th>\n",
       "      <th>quality</th>\n",
       "      <th>hips</th>\n",
       "      <th>bra_size</th>\n",
       "      <th>bust</th>\n",
       "      <th>height</th>\n",
       "      <th>user_id</th>\n",
       "      <th>shoe_size</th>\n",
       "    </tr>\n",
       "  </thead>\n",
       "  <tbody>\n",
       "    <tr>\n",
       "      <th>count</th>\n",
       "      <td>82790.000000</td>\n",
       "      <td>2882.000000</td>\n",
       "      <td>82790.000000</td>\n",
       "      <td>82722.000000</td>\n",
       "      <td>56064.000000</td>\n",
       "      <td>76772.000000</td>\n",
       "      <td>11854.000000</td>\n",
       "      <td>81683.000000</td>\n",
       "      <td>82790.000000</td>\n",
       "      <td>27915.000000</td>\n",
       "    </tr>\n",
       "    <tr>\n",
       "      <th>mean</th>\n",
       "      <td>469325.229170</td>\n",
       "      <td>31.319223</td>\n",
       "      <td>12.661602</td>\n",
       "      <td>3.949058</td>\n",
       "      <td>40.358501</td>\n",
       "      <td>35.972125</td>\n",
       "      <td>37.499241</td>\n",
       "      <td>165.471906</td>\n",
       "      <td>498849.564718</td>\n",
       "      <td>8.145818</td>\n",
       "    </tr>\n",
       "    <tr>\n",
       "      <th>std</th>\n",
       "      <td>213999.803314</td>\n",
       "      <td>5.302849</td>\n",
       "      <td>8.271952</td>\n",
       "      <td>0.992783</td>\n",
       "      <td>5.827166</td>\n",
       "      <td>3.224907</td>\n",
       "      <td>4.635117</td>\n",
       "      <td>7.245308</td>\n",
       "      <td>286356.969459</td>\n",
       "      <td>1.336109</td>\n",
       "    </tr>\n",
       "    <tr>\n",
       "      <th>min</th>\n",
       "      <td>123373.000000</td>\n",
       "      <td>20.000000</td>\n",
       "      <td>0.000000</td>\n",
       "      <td>1.000000</td>\n",
       "      <td>30.000000</td>\n",
       "      <td>28.000000</td>\n",
       "      <td>20.000000</td>\n",
       "      <td>91.440000</td>\n",
       "      <td>6.000000</td>\n",
       "      <td>5.000000</td>\n",
       "    </tr>\n",
       "    <tr>\n",
       "      <th>25%</th>\n",
       "      <td>314980.000000</td>\n",
       "      <td>28.000000</td>\n",
       "      <td>8.000000</td>\n",
       "      <td>3.000000</td>\n",
       "      <td>36.000000</td>\n",
       "      <td>34.000000</td>\n",
       "      <td>34.000000</td>\n",
       "      <td>160.020000</td>\n",
       "      <td>252897.750000</td>\n",
       "      <td>7.000000</td>\n",
       "    </tr>\n",
       "    <tr>\n",
       "      <th>50%</th>\n",
       "      <td>454030.000000</td>\n",
       "      <td>30.000000</td>\n",
       "      <td>12.000000</td>\n",
       "      <td>4.000000</td>\n",
       "      <td>39.000000</td>\n",
       "      <td>36.000000</td>\n",
       "      <td>36.000000</td>\n",
       "      <td>165.100000</td>\n",
       "      <td>497913.500000</td>\n",
       "      <td>8.000000</td>\n",
       "    </tr>\n",
       "    <tr>\n",
       "      <th>75%</th>\n",
       "      <td>658440.000000</td>\n",
       "      <td>34.000000</td>\n",
       "      <td>15.000000</td>\n",
       "      <td>5.000000</td>\n",
       "      <td>43.000000</td>\n",
       "      <td>38.000000</td>\n",
       "      <td>40.000000</td>\n",
       "      <td>170.180000</td>\n",
       "      <td>744745.250000</td>\n",
       "      <td>9.000000</td>\n",
       "    </tr>\n",
       "    <tr>\n",
       "      <th>max</th>\n",
       "      <td>807722.000000</td>\n",
       "      <td>50.000000</td>\n",
       "      <td>38.000000</td>\n",
       "      <td>5.000000</td>\n",
       "      <td>60.000000</td>\n",
       "      <td>48.000000</td>\n",
       "      <td>59.000000</td>\n",
       "      <td>241.300000</td>\n",
       "      <td>999972.000000</td>\n",
       "      <td>38.000000</td>\n",
       "    </tr>\n",
       "  </tbody>\n",
       "</table>\n",
       "</div>"
      ],
      "text/plain": [
       "             item_id        waist          size       quality          hips  \\\n",
       "count   82790.000000  2882.000000  82790.000000  82722.000000  56064.000000   \n",
       "mean   469325.229170    31.319223     12.661602      3.949058     40.358501   \n",
       "std    213999.803314     5.302849      8.271952      0.992783      5.827166   \n",
       "min    123373.000000    20.000000      0.000000      1.000000     30.000000   \n",
       "25%    314980.000000    28.000000      8.000000      3.000000     36.000000   \n",
       "50%    454030.000000    30.000000     12.000000      4.000000     39.000000   \n",
       "75%    658440.000000    34.000000     15.000000      5.000000     43.000000   \n",
       "max    807722.000000    50.000000     38.000000      5.000000     60.000000   \n",
       "\n",
       "           bra_size          bust        height        user_id     shoe_size  \n",
       "count  76772.000000  11854.000000  81683.000000   82790.000000  27915.000000  \n",
       "mean      35.972125     37.499241    165.471906  498849.564718      8.145818  \n",
       "std        3.224907      4.635117      7.245308  286356.969459      1.336109  \n",
       "min       28.000000     20.000000     91.440000       6.000000      5.000000  \n",
       "25%       34.000000     34.000000    160.020000  252897.750000      7.000000  \n",
       "50%       36.000000     36.000000    165.100000  497913.500000      8.000000  \n",
       "75%       38.000000     40.000000    170.180000  744745.250000      9.000000  \n",
       "max       48.000000     59.000000    241.300000  999972.000000     38.000000  "
      ]
     },
     "execution_count": 10,
     "metadata": {},
     "output_type": "execute_result"
    }
   ],
   "source": [
    "# Removing inconsistencies in numerical data\n",
    "modcloth_df.describe()\n"
   ]
  },
  {
   "cell_type": "markdown",
   "metadata": {
    "colab_type": "text",
    "id": "_iXoVoeMgEXb"
   },
   "source": [
    "# Outlier Removal"
   ]
  },
  {
   "cell_type": "code",
   "execution_count": 11,
   "metadata": {
    "colab": {
     "base_uri": "https://localhost:8080/",
     "height": 562
    },
    "colab_type": "code",
    "id": "PrSvugDhUT-X",
    "outputId": "d976347c-54c3-4576-9413-a9e188fd8923"
   },
   "outputs": [
    {
     "data": {
      "image/png": "[encoded data removed]",
      "text/plain": [
       "<Figure size 1296x648 with 1 Axes>"
      ]
     },
     "metadata": {
      "needs_background": "light"
     },
     "output_type": "display_data"
    }
   ],
   "source": [
    "num_cols = ['bra_size','hips','quality','shoe_size','size','waist', 'bust', 'height', ]\n",
    "plt.figure(figsize=(18,9))\n",
    "modcloth_df[num_cols].boxplot()\n",
    "plt.title(\"Numerical variables in Modcloth dataset\", fontsize=20)\n",
    "plt.show()"
   ]
  },
  {
   "cell_type": "code",
   "execution_count": 12,
   "metadata": {
    "colab": {
     "base_uri": "https://localhost:8080/",
     "height": 596
    },
    "colab_type": "code",
    "id": "Pw8otbtH4ZQ-",
    "outputId": "5d0aadb4-3c2c-4df2-ed41-d0a01ada2a21"
   },
   "outputs": [
    {
     "name": "stderr",
     "output_type": "stream",
     "text": [
      "C:\\Users\\Raja\\anaconda3\\envs\\env2\\lib\\site-packages\\ipykernel_launcher.py:3: RuntimeWarning: divide by zero encountered in log\n",
      "  This is separate from the ipykernel package so we can avoid doing imports until\n"
     ]
    },
    {
     "data": {
      "image/png": "[encoded data removed]",
      "text/plain": [
       "<Figure size 1296x648 with 1 Axes>"
      ]
     },
     "metadata": {
      "needs_background": "light"
     },
     "output_type": "display_data"
    }
   ],
   "source": [
    "num_cols = ['bra_size','hips','quality','shoe_size','size','waist', 'bust', 'height', ]\n",
    "plt.figure(figsize=(18,9))\n",
    "np.log(modcloth_df[num_cols]).boxplot()\n",
    "plt.title(\"Numerical variables(log transformed) in Modcloth dataset\", fontsize=20)\n",
    "plt.show()"
   ]
  },
  {
   "cell_type": "markdown",
   "metadata": {
    "colab_type": "text",
    "id": "AhLqfgB7bIlK"
   },
   "source": [
    "As we can see there are a couple of variables with values that lies in the outlier range (by rule of thumb, although some deep analysis can be done if these anomalies can be explained and there is evidence to explain them) here i am presuming them to be outliers and removing the values beyond [<(Q1- 1.5*IQR), >Q3+1.5*IQR)]\n",
    "- bra_size, hips, shoe_size, waist, bust, height\n",
    "\n",
    "\n",
    "@Note :- Implement other methods if time permits"
   ]
  },
  {
   "cell_type": "code",
   "execution_count": 13,
   "metadata": {
    "colab": {},
    "colab_type": "code",
    "id": "e_HtvV3sc4J_"
   },
   "outputs": [],
   "source": [
    "Q1 = modcloth_df.quantile(0.25)\n",
    "Q3 = modcloth_df.quantile(0.75)\n",
    "Q1.drop([\"item_id\",\"user_id\"], inplace =True)\n",
    "Q3.drop([\"item_id\",\"user_id\"], inplace = True)\n",
    "IQR = Q3 - Q1"
   ]
  },
  {
   "cell_type": "code",
   "execution_count": 14,
   "metadata": {},
   "outputs": [
    {
     "data": {
      "text/html": [
       "<div>\n",
       "<style scoped>\n",
       "    .dataframe tbody tr th:only-of-type {\n",
       "        vertical-align: middle;\n",
       "    }\n",
       "\n",
       "    .dataframe tbody tr th {\n",
       "        vertical-align: top;\n",
       "    }\n",
       "\n",
       "    .dataframe thead th {\n",
       "        text-align: right;\n",
       "    }\n",
       "</style>\n",
       "<table border=\"1\" class=\"dataframe\">\n",
       "  <thead>\n",
       "    <tr style=\"text-align: right;\">\n",
       "      <th></th>\n",
       "      <th>item_id</th>\n",
       "      <th>waist</th>\n",
       "      <th>size</th>\n",
       "      <th>quality</th>\n",
       "      <th>cup_size</th>\n",
       "      <th>hips</th>\n",
       "      <th>bra_size</th>\n",
       "      <th>category</th>\n",
       "      <th>bust</th>\n",
       "      <th>height</th>\n",
       "      <th>user_name</th>\n",
       "      <th>length</th>\n",
       "      <th>fit</th>\n",
       "      <th>user_id</th>\n",
       "      <th>shoe_size</th>\n",
       "      <th>shoe_width</th>\n",
       "      <th>review_summary</th>\n",
       "      <th>review_text</th>\n",
       "    </tr>\n",
       "  </thead>\n",
       "  <tbody>\n",
       "    <tr>\n",
       "      <th>0</th>\n",
       "      <td>123373</td>\n",
       "      <td>29.0</td>\n",
       "      <td>7</td>\n",
       "      <td>5.0</td>\n",
       "      <td>d</td>\n",
       "      <td>38.0</td>\n",
       "      <td>34.0</td>\n",
       "      <td>new</td>\n",
       "      <td>36.0</td>\n",
       "      <td>167.64</td>\n",
       "      <td>Emily</td>\n",
       "      <td>just right</td>\n",
       "      <td>small</td>\n",
       "      <td>991571</td>\n",
       "      <td>NaN</td>\n",
       "      <td>NaN</td>\n",
       "      <td>NaN</td>\n",
       "      <td>NaN</td>\n",
       "    </tr>\n",
       "    <tr>\n",
       "      <th>1</th>\n",
       "      <td>123373</td>\n",
       "      <td>31.0</td>\n",
       "      <td>13</td>\n",
       "      <td>3.0</td>\n",
       "      <td>b</td>\n",
       "      <td>30.0</td>\n",
       "      <td>36.0</td>\n",
       "      <td>new</td>\n",
       "      <td>NaN</td>\n",
       "      <td>157.48</td>\n",
       "      <td>sydneybraden2001</td>\n",
       "      <td>just right</td>\n",
       "      <td>small</td>\n",
       "      <td>587883</td>\n",
       "      <td>NaN</td>\n",
       "      <td>NaN</td>\n",
       "      <td>NaN</td>\n",
       "      <td>NaN</td>\n",
       "    </tr>\n",
       "    <tr>\n",
       "      <th>2</th>\n",
       "      <td>123373</td>\n",
       "      <td>30.0</td>\n",
       "      <td>7</td>\n",
       "      <td>2.0</td>\n",
       "      <td>b</td>\n",
       "      <td>NaN</td>\n",
       "      <td>32.0</td>\n",
       "      <td>new</td>\n",
       "      <td>NaN</td>\n",
       "      <td>170.18</td>\n",
       "      <td>Ugggh</td>\n",
       "      <td>slightly long</td>\n",
       "      <td>small</td>\n",
       "      <td>395665</td>\n",
       "      <td>9.0</td>\n",
       "      <td>NaN</td>\n",
       "      <td>NaN</td>\n",
       "      <td>NaN</td>\n",
       "    </tr>\n",
       "    <tr>\n",
       "      <th>3</th>\n",
       "      <td>123373</td>\n",
       "      <td>NaN</td>\n",
       "      <td>21</td>\n",
       "      <td>5.0</td>\n",
       "      <td>dd/e</td>\n",
       "      <td>NaN</td>\n",
       "      <td>NaN</td>\n",
       "      <td>new</td>\n",
       "      <td>NaN</td>\n",
       "      <td>NaN</td>\n",
       "      <td>alexmeyer626</td>\n",
       "      <td>just right</td>\n",
       "      <td>fit</td>\n",
       "      <td>875643</td>\n",
       "      <td>NaN</td>\n",
       "      <td>NaN</td>\n",
       "      <td>NaN</td>\n",
       "      <td>NaN</td>\n",
       "    </tr>\n",
       "    <tr>\n",
       "      <th>4</th>\n",
       "      <td>123373</td>\n",
       "      <td>NaN</td>\n",
       "      <td>18</td>\n",
       "      <td>5.0</td>\n",
       "      <td>b</td>\n",
       "      <td>NaN</td>\n",
       "      <td>36.0</td>\n",
       "      <td>new</td>\n",
       "      <td>NaN</td>\n",
       "      <td>157.48</td>\n",
       "      <td>dberrones1</td>\n",
       "      <td>slightly long</td>\n",
       "      <td>small</td>\n",
       "      <td>944840</td>\n",
       "      <td>NaN</td>\n",
       "      <td>NaN</td>\n",
       "      <td>NaN</td>\n",
       "      <td>NaN</td>\n",
       "    </tr>\n",
       "    <tr>\n",
       "      <th>...</th>\n",
       "      <td>...</td>\n",
       "      <td>...</td>\n",
       "      <td>...</td>\n",
       "      <td>...</td>\n",
       "      <td>...</td>\n",
       "      <td>...</td>\n",
       "      <td>...</td>\n",
       "      <td>...</td>\n",
       "      <td>...</td>\n",
       "      <td>...</td>\n",
       "      <td>...</td>\n",
       "      <td>...</td>\n",
       "      <td>...</td>\n",
       "      <td>...</td>\n",
       "      <td>...</td>\n",
       "      <td>...</td>\n",
       "      <td>...</td>\n",
       "      <td>...</td>\n",
       "    </tr>\n",
       "    <tr>\n",
       "      <th>82785</th>\n",
       "      <td>807722</td>\n",
       "      <td>NaN</td>\n",
       "      <td>8</td>\n",
       "      <td>4.0</td>\n",
       "      <td>b</td>\n",
       "      <td>NaN</td>\n",
       "      <td>36.0</td>\n",
       "      <td>outerwear</td>\n",
       "      <td>NaN</td>\n",
       "      <td>172.72</td>\n",
       "      <td>Jennifer</td>\n",
       "      <td>just right</td>\n",
       "      <td>fit</td>\n",
       "      <td>727820</td>\n",
       "      <td>8.5</td>\n",
       "      <td>average</td>\n",
       "      <td>Cute jacket!</td>\n",
       "      <td>Cute jacket!</td>\n",
       "    </tr>\n",
       "    <tr>\n",
       "      <th>82786</th>\n",
       "      <td>807722</td>\n",
       "      <td>NaN</td>\n",
       "      <td>12</td>\n",
       "      <td>5.0</td>\n",
       "      <td>ddd/f</td>\n",
       "      <td>NaN</td>\n",
       "      <td>34.0</td>\n",
       "      <td>outerwear</td>\n",
       "      <td>NaN</td>\n",
       "      <td>165.10</td>\n",
       "      <td>Kelli</td>\n",
       "      <td>slightly long</td>\n",
       "      <td>small</td>\n",
       "      <td>197040</td>\n",
       "      <td>NaN</td>\n",
       "      <td>NaN</td>\n",
       "      <td>It's a beautiful jacket.</td>\n",
       "      <td>It's a beautiful jacket. I love how it's knit ...</td>\n",
       "    </tr>\n",
       "    <tr>\n",
       "      <th>82787</th>\n",
       "      <td>807722</td>\n",
       "      <td>NaN</td>\n",
       "      <td>12</td>\n",
       "      <td>5.0</td>\n",
       "      <td>dddd/g</td>\n",
       "      <td>36.0</td>\n",
       "      <td>32.0</td>\n",
       "      <td>outerwear</td>\n",
       "      <td>NaN</td>\n",
       "      <td>162.56</td>\n",
       "      <td>elacount</td>\n",
       "      <td>just right</td>\n",
       "      <td>fit</td>\n",
       "      <td>102493</td>\n",
       "      <td>NaN</td>\n",
       "      <td>NaN</td>\n",
       "      <td>I love this blazer. It is</td>\n",
       "      <td>I love this blazer. It is a great office piece...</td>\n",
       "    </tr>\n",
       "    <tr>\n",
       "      <th>82788</th>\n",
       "      <td>807722</td>\n",
       "      <td>NaN</td>\n",
       "      <td>12</td>\n",
       "      <td>4.0</td>\n",
       "      <td>NaN</td>\n",
       "      <td>NaN</td>\n",
       "      <td>NaN</td>\n",
       "      <td>outerwear</td>\n",
       "      <td>NaN</td>\n",
       "      <td>160.02</td>\n",
       "      <td>jennaklinner</td>\n",
       "      <td>just right</td>\n",
       "      <td>fit</td>\n",
       "      <td>756491</td>\n",
       "      <td>NaN</td>\n",
       "      <td>NaN</td>\n",
       "      <td>I love this blazer!! I wo</td>\n",
       "      <td>I love this blazer!! I wore it yesterday and g...</td>\n",
       "    </tr>\n",
       "    <tr>\n",
       "      <th>82789</th>\n",
       "      <td>807722</td>\n",
       "      <td>NaN</td>\n",
       "      <td>4</td>\n",
       "      <td>4.0</td>\n",
       "      <td>d</td>\n",
       "      <td>39.0</td>\n",
       "      <td>32.0</td>\n",
       "      <td>outerwear</td>\n",
       "      <td>NaN</td>\n",
       "      <td>182.88</td>\n",
       "      <td>maireadsteadman</td>\n",
       "      <td>just right</td>\n",
       "      <td>fit</td>\n",
       "      <td>78305</td>\n",
       "      <td>NaN</td>\n",
       "      <td>NaN</td>\n",
       "      <td>I love this piece. I'm re</td>\n",
       "      <td>I love this piece. I'm really happy with it!</td>\n",
       "    </tr>\n",
       "  </tbody>\n",
       "</table>\n",
       "<p>82790 rows × 18 columns</p>\n",
       "</div>"
      ],
      "text/plain": [
       "       item_id  waist  size  quality cup_size  hips  bra_size   category  \\\n",
       "0       123373   29.0     7      5.0        d  38.0      34.0        new   \n",
       "1       123373   31.0    13      3.0        b  30.0      36.0        new   \n",
       "2       123373   30.0     7      2.0        b   NaN      32.0        new   \n",
       "3       123373    NaN    21      5.0     dd/e   NaN       NaN        new   \n",
       "4       123373    NaN    18      5.0        b   NaN      36.0        new   \n",
       "...        ...    ...   ...      ...      ...   ...       ...        ...   \n",
       "82785   807722    NaN     8      4.0        b   NaN      36.0  outerwear   \n",
       "82786   807722    NaN    12      5.0    ddd/f   NaN      34.0  outerwear   \n",
       "82787   807722    NaN    12      5.0   dddd/g  36.0      32.0  outerwear   \n",
       "82788   807722    NaN    12      4.0      NaN   NaN       NaN  outerwear   \n",
       "82789   807722    NaN     4      4.0        d  39.0      32.0  outerwear   \n",
       "\n",
       "       bust  height         user_name         length    fit  user_id  \\\n",
       "0      36.0  167.64             Emily     just right  small   991571   \n",
       "1       NaN  157.48  sydneybraden2001     just right  small   587883   \n",
       "2       NaN  170.18             Ugggh  slightly long  small   395665   \n",
       "3       NaN     NaN      alexmeyer626     just right    fit   875643   \n",
       "4       NaN  157.48        dberrones1  slightly long  small   944840   \n",
       "...     ...     ...               ...            ...    ...      ...   \n",
       "82785   NaN  172.72          Jennifer     just right    fit   727820   \n",
       "82786   NaN  165.10             Kelli  slightly long  small   197040   \n",
       "82787   NaN  162.56          elacount     just right    fit   102493   \n",
       "82788   NaN  160.02      jennaklinner     just right    fit   756491   \n",
       "82789   NaN  182.88   maireadsteadman     just right    fit    78305   \n",
       "\n",
       "       shoe_size shoe_width             review_summary  \\\n",
       "0            NaN        NaN                        NaN   \n",
       "1            NaN        NaN                        NaN   \n",
       "2            9.0        NaN                        NaN   \n",
       "3            NaN        NaN                        NaN   \n",
       "4            NaN        NaN                        NaN   \n",
       "...          ...        ...                        ...   \n",
       "82785        8.5    average               Cute jacket!   \n",
       "82786        NaN        NaN   It's a beautiful jacket.   \n",
       "82787        NaN        NaN  I love this blazer. It is   \n",
       "82788        NaN        NaN  I love this blazer!! I wo   \n",
       "82789        NaN        NaN  I love this piece. I'm re   \n",
       "\n",
       "                                             review_text  \n",
       "0                                                    NaN  \n",
       "1                                                    NaN  \n",
       "2                                                    NaN  \n",
       "3                                                    NaN  \n",
       "4                                                    NaN  \n",
       "...                                                  ...  \n",
       "82785                                       Cute jacket!  \n",
       "82786  It's a beautiful jacket. I love how it's knit ...  \n",
       "82787  I love this blazer. It is a great office piece...  \n",
       "82788  I love this blazer!! I wore it yesterday and g...  \n",
       "82789       I love this piece. I'm really happy with it!  \n",
       "\n",
       "[82790 rows x 18 columns]"
      ]
     },
     "execution_count": 14,
     "metadata": {},
     "output_type": "execute_result"
    }
   ],
   "source": [
    "modcloth_df"
   ]
  },
  {
   "cell_type": "code",
   "execution_count": 15,
   "metadata": {
    "colab": {},
    "colab_type": "code",
    "id": "vZg080yjfEna"
   },
   "outputs": [],
   "source": [
    "modcloth_df = modcloth_df[~((modcloth_df < (Q1 - 1.5 * IQR)) |(modcloth_df > (Q3 + 1.5 * IQR))).any(axis=1)]"
   ]
  },
  {
   "cell_type": "code",
   "execution_count": 16,
   "metadata": {
    "colab": {},
    "colab_type": "code",
    "id": "1E-_WSgMfFXP"
   },
   "outputs": [],
   "source": [
    "modcloth_df.reset_index(drop=True, inplace=True)"
   ]
  },
  {
   "cell_type": "markdown",
   "metadata": {
    "colab_type": "text",
    "id": "V86GMs6DgGpD"
   },
   "source": [
    "# Handling Missing Values"
   ]
  },
  {
   "cell_type": "code",
   "execution_count": 17,
   "metadata": {
    "colab": {
     "base_uri": "https://localhost:8080/",
     "height": 580
    },
    "colab_type": "code",
    "id": "WCWl4AmVfpbr",
    "outputId": "b2da8b76-3f52-4c55-a0ca-bf4b5dca467d"
   },
   "outputs": [
    {
     "data": {
      "text/html": [
       "<div>\n",
       "<style scoped>\n",
       "    .dataframe tbody tr th:only-of-type {\n",
       "        vertical-align: middle;\n",
       "    }\n",
       "\n",
       "    .dataframe tbody tr th {\n",
       "        vertical-align: top;\n",
       "    }\n",
       "\n",
       "    .dataframe thead th {\n",
       "        text-align: right;\n",
       "    }\n",
       "</style>\n",
       "<table border=\"1\" class=\"dataframe\">\n",
       "  <thead>\n",
       "    <tr style=\"text-align: right;\">\n",
       "      <th></th>\n",
       "      <th>perc_missing</th>\n",
       "    </tr>\n",
       "  </thead>\n",
       "  <tbody>\n",
       "    <tr>\n",
       "      <th>waist</th>\n",
       "      <td>96.371036</td>\n",
       "    </tr>\n",
       "    <tr>\n",
       "      <th>bust</th>\n",
       "      <td>85.001403</td>\n",
       "    </tr>\n",
       "    <tr>\n",
       "      <th>shoe_width</th>\n",
       "      <td>77.200393</td>\n",
       "    </tr>\n",
       "    <tr>\n",
       "      <th>shoe_size</th>\n",
       "      <td>65.216110</td>\n",
       "    </tr>\n",
       "    <tr>\n",
       "      <th>hips</th>\n",
       "      <td>31.618019</td>\n",
       "    </tr>\n",
       "    <tr>\n",
       "      <th>review_text</th>\n",
       "      <td>8.005894</td>\n",
       "    </tr>\n",
       "    <tr>\n",
       "      <th>review_summary</th>\n",
       "      <td>8.005894</td>\n",
       "    </tr>\n",
       "    <tr>\n",
       "      <th>cup_size</th>\n",
       "      <td>7.325288</td>\n",
       "    </tr>\n",
       "    <tr>\n",
       "      <th>bra_size</th>\n",
       "      <td>6.994106</td>\n",
       "    </tr>\n",
       "    <tr>\n",
       "      <th>height</th>\n",
       "      <td>1.211058</td>\n",
       "    </tr>\n",
       "    <tr>\n",
       "      <th>quality</th>\n",
       "      <td>0.081392</td>\n",
       "    </tr>\n",
       "    <tr>\n",
       "      <th>length</th>\n",
       "      <td>0.039293</td>\n",
       "    </tr>\n",
       "    <tr>\n",
       "      <th>user_name</th>\n",
       "      <td>0.000000</td>\n",
       "    </tr>\n",
       "    <tr>\n",
       "      <th>fit</th>\n",
       "      <td>0.000000</td>\n",
       "    </tr>\n",
       "    <tr>\n",
       "      <th>user_id</th>\n",
       "      <td>0.000000</td>\n",
       "    </tr>\n",
       "    <tr>\n",
       "      <th>category</th>\n",
       "      <td>0.000000</td>\n",
       "    </tr>\n",
       "    <tr>\n",
       "      <th>size</th>\n",
       "      <td>0.000000</td>\n",
       "    </tr>\n",
       "    <tr>\n",
       "      <th>item_id</th>\n",
       "      <td>0.000000</td>\n",
       "    </tr>\n",
       "  </tbody>\n",
       "</table>\n",
       "</div>"
      ],
      "text/plain": [
       "                perc_missing\n",
       "waist              96.371036\n",
       "bust               85.001403\n",
       "shoe_width         77.200393\n",
       "shoe_size          65.216110\n",
       "hips               31.618019\n",
       "review_text         8.005894\n",
       "review_summary      8.005894\n",
       "cup_size            7.325288\n",
       "bra_size            6.994106\n",
       "height              1.211058\n",
       "quality             0.081392\n",
       "length              0.039293\n",
       "user_name           0.000000\n",
       "fit                 0.000000\n",
       "user_id             0.000000\n",
       "category            0.000000\n",
       "size                0.000000\n",
       "item_id             0.000000"
      ]
     },
     "execution_count": 17,
     "metadata": {},
     "output_type": "execute_result"
    }
   ],
   "source": [
    "# Checking amount of missing values\n",
    "missing_data = pd.DataFrame({'perc_missing': (modcloth_df.isnull().sum()/modcloth_df.shape[0])*100})\n",
    "missing_data.sort_values(\"perc_missing\", ascending=False, inplace = True)\n",
    "missing_data"
   ]
  },
  {
   "cell_type": "code",
   "execution_count": 18,
   "metadata": {
    "colab": {},
    "colab_type": "code",
    "id": "pMEeWtN5iFdO"
   },
   "outputs": [],
   "source": [
    "# The first 4 columns namely waist, bust, shoe_width and shoe_size have high number of mising data\n",
    "# and hence should be dropped. shoe_size can be indicators for product to be a shoe\n",
    "# otherwise they should be dropped as well\n",
    "\n",
    "\n",
    "# Checking of product is a shoe \n",
    "shoe_review_df = modcloth_df[np.logical_and(pd.notnull(modcloth_df[\"review_text\"]), pd.notnull(modcloth_df[\"shoe_size\"]))][[\"user_name\",\"shoe_size\",\"review_text\"]]"
   ]
  },
  {
   "cell_type": "code",
   "execution_count": 19,
   "metadata": {
    "colab": {
     "base_uri": "https://localhost:8080/",
     "height": 34
    },
    "colab_type": "code",
    "id": "NIvTCHLwjfOo",
    "outputId": "e3cb5d66-6cf0-4ca6-b6d0-2611aefa97f6"
   },
   "outputs": [
    {
     "data": {
      "text/plain": [
       "(22958, 3)"
      ]
     },
     "execution_count": 19,
     "metadata": {},
     "output_type": "execute_result"
    }
   ],
   "source": [
    "shoe_review_df.shape"
   ]
  },
  {
   "cell_type": "code",
   "execution_count": 20,
   "metadata": {
    "colab": {
     "base_uri": "https://localhost:8080/",
     "height": 34
    },
    "colab_type": "code",
    "id": "K0PjzCGRjI0S",
    "outputId": "43c4aaac-21d1-4791-bb54-d04f9f17d184"
   },
   "outputs": [
    {
     "data": {
      "text/plain": [
       "0.003745970903388797"
      ]
     },
     "execution_count": 20,
     "metadata": {},
     "output_type": "execute_result"
    }
   ],
   "source": [
    "# %age review containing shoe mentions\n",
    "np.sum([True if len(re.findall(r\"shoes|shoe\",x))> 0 else False for x in shoe_review_df.review_text])/shoe_review_df.shape[0]"
   ]
  },
  {
   "cell_type": "code",
   "execution_count": 21,
   "metadata": {
    "colab": {
     "base_uri": "https://localhost:8080/",
     "height": 34
    },
    "colab_type": "code",
    "id": "GmFeNC73kRV3",
    "outputId": "ae6cb54b-324f-4d66-e86e-7c7e9bba90a2"
   },
   "outputs": [
    {
     "data": {
      "text/plain": [
       "585"
      ]
     },
     "execution_count": 21,
     "metadata": {},
     "output_type": "execute_result"
    }
   ],
   "source": [
    " # There are 585 users with differing shoe_sizes (since time information is not present,\n",
    " # also the person for which the product is bought for is not known) it is difficult\n",
    " # to call this misrepresentation as an error\n",
    "np.sum(shoe_review_df.groupby('user_name')['shoe_size'].unique().apply(lambda x: len(x)) > 1)"
   ]
  },
  {
   "cell_type": "code",
   "execution_count": 22,
   "metadata": {
    "colab": {
     "base_uri": "https://localhost:8080/",
     "height": 34
    },
    "colab_type": "code",
    "id": "mRtOsQM6lWF9",
    "outputId": "ee7ba11f-62f5-4ced-d5ad-aa0e69babd5e"
   },
   "outputs": [
    {
     "data": {
      "text/plain": [
       "1201"
      ]
     },
     "execution_count": 22,
     "metadata": {},
     "output_type": "execute_result"
    }
   ],
   "source": [
    "# There are roughly 700 new additions to the above logic, which means that for the same\n",
    "# user the shoe_size is reported but is not reproted somewhere else in the data.\n",
    "np.sum(modcloth_df.groupby('user_name')['shoe_size'].unique().apply(lambda x: len(x)) > 1)"
   ]
  },
  {
   "cell_type": "markdown",
   "metadata": {
    "colab_type": "text",
    "id": "EJfDzSWRkL37"
   },
   "source": [
    "Allthough the above methodology above is heuristical but it gives a fair sense that presence of shoe sizes can't indicate that shoes were bought hence all the 4 columns should be removed. (bust was also found to be highly correlated to waist size,when i used the missingno heatmap without droppin the 4 columns)\n",
    "\n",
    "There are other reasons to be aggressive at dropping information around shoe sizes check the correlation graph below between height and shoe_sizes"
   ]
  },
  {
   "cell_type": "code",
   "execution_count": 23,
   "metadata": {
    "colab": {
     "base_uri": "https://localhost:8080/",
     "height": 614
    },
    "colab_type": "code",
    "id": "bBG-yjmFovM2",
    "outputId": "42d84608-b084-48ad-8280-6f75e55a3f9d"
   },
   "outputs": [
    {
     "data": {
      "image/png": "[encoded data removed]",
      "text/plain": [
       "<Figure size 1440x720 with 1 Axes>"
      ]
     },
     "metadata": {
      "needs_background": "light"
     },
     "output_type": "display_data"
    }
   ],
   "source": [
    "fig = plt.gcf()\n",
    "fig.set_size_inches(20,10)\n",
    "__ = sns.violinplot(x='shoe_size', y='height',data=modcloth_df)"
   ]
  },
  {
   "cell_type": "code",
   "execution_count": 24,
   "metadata": {
    "colab": {},
    "colab_type": "code",
    "id": "1nmBvQ6Fl9hV"
   },
   "outputs": [
    {
     "name": "stderr",
     "output_type": "stream",
     "text": [
      "C:\\Users\\Raja\\anaconda3\\envs\\env2\\lib\\site-packages\\pandas\\core\\frame.py:3997: SettingWithCopyWarning: \n",
      "A value is trying to be set on a copy of a slice from a DataFrame\n",
      "\n",
      "See the caveats in the documentation: https://pandas.pydata.org/pandas-docs/stable/user_guide/indexing.html#returning-a-view-versus-a-copy\n",
      "  errors=errors,\n"
     ]
    }
   ],
   "source": [
    "modcloth_df.drop([\"waist\", \"bust\", \"shoe_width\", \"shoe_size\"], axis= 1, inplace=True)"
   ]
  },
  {
   "cell_type": "markdown",
   "metadata": {
    "colab_type": "text",
    "id": "zEhioiPRhTWm"
   },
   "source": [
    "Using the missing no package analye if the missing values follows a pattern when analyzed wrt another column"
   ]
  },
  {
   "cell_type": "code",
   "execution_count": 25,
   "metadata": {
    "colab": {
     "base_uri": "https://localhost:8080/",
     "height": 816
    },
    "colab_type": "code",
    "id": "b6a6F2HLhIeD",
    "outputId": "f9bfd143-fea0-4579-8425-442276003f84"
   },
   "outputs": [
    {
     "data": {
      "text/plain": [
       "<matplotlib.axes._subplots.AxesSubplot at 0x24589ef9808>"
      ]
     },
     "execution_count": 25,
     "metadata": {},
     "output_type": "execute_result"
    },
    {
     "data": {
      "image/png": "[encoded data removed]",
      "text/plain": [
       "<Figure size 1440x864 with 2 Axes>"
      ]
     },
     "metadata": {
      "needs_background": "light"
     },
     "output_type": "display_data"
    }
   ],
   "source": [
    "# missing values in different columns as a heatmap\n",
    "msno.heatmap(modcloth_df)  "
   ]
  },
  {
   "cell_type": "markdown",
   "metadata": {
    "colab_type": "text",
    "id": "RdC-MlVcp0Tq"
   },
   "source": [
    "Some observations are :-\n",
    "- Correlation of cupsize and brasize\n",
    "  - Impute using mode for different category of cupsize and brasize\n",
    "  - where both cupsize and brasize are nan use column mode\n",
    "- review_summary and review_text are 1-to-1 match , their missing values can \n",
    " be imputed by replacing with \"Unknown\"\n",
    "- height, quality and length can be imputed by measures of central tendency\n",
    "- mising value in hips doesn't show high correlation to any of the other columns\n",
    "and hence we will categorize the column based on its distribution(kde plot)"
   ]
  },
  {
   "cell_type": "markdown",
   "metadata": {
    "colab_type": "text",
    "id": "SLdbz5Nwy8yN"
   },
   "source": [
    "### Handling cupsize and brasize"
   ]
  },
  {
   "cell_type": "code",
   "execution_count": 26,
   "metadata": {
    "colab": {},
    "colab_type": "code",
    "id": "NYEJzFTNhjXH"
   },
   "outputs": [],
   "source": [
    "bra_size_to_cup_size = {x:y for x,y in modcloth_df.groupby(\"bra_size\")[\"cup_size\"].agg(pd.Series.mode).reset_index().values}\n",
    "cup_size_to_bra_size = {x:y for x,y in modcloth_df.groupby(\"cup_size\")[\"bra_size\"].median().reset_index().values}\n",
    "\n",
    "bra_size_med = modcloth_df.bra_size.median() \n",
    "cup_size_mod = bra_size_to_cup_size[bra_size_med] # not matching with cup size mode"
   ]
  },
  {
   "cell_type": "code",
   "execution_count": 27,
   "metadata": {},
   "outputs": [
    {
     "data": {
      "text/html": [
       "<div>\n",
       "<style scoped>\n",
       "    .dataframe tbody tr th:only-of-type {\n",
       "        vertical-align: middle;\n",
       "    }\n",
       "\n",
       "    .dataframe tbody tr th {\n",
       "        vertical-align: top;\n",
       "    }\n",
       "\n",
       "    .dataframe thead th {\n",
       "        text-align: right;\n",
       "    }\n",
       "</style>\n",
       "<table border=\"1\" class=\"dataframe\">\n",
       "  <thead>\n",
       "    <tr style=\"text-align: right;\">\n",
       "      <th></th>\n",
       "      <th>item_id</th>\n",
       "      <th>size</th>\n",
       "      <th>quality</th>\n",
       "      <th>cup_size</th>\n",
       "      <th>hips</th>\n",
       "      <th>bra_size</th>\n",
       "      <th>category</th>\n",
       "      <th>height</th>\n",
       "      <th>user_name</th>\n",
       "      <th>length</th>\n",
       "      <th>fit</th>\n",
       "      <th>user_id</th>\n",
       "      <th>review_summary</th>\n",
       "      <th>review_text</th>\n",
       "    </tr>\n",
       "  </thead>\n",
       "  <tbody>\n",
       "    <tr>\n",
       "      <th>0</th>\n",
       "      <td>123373</td>\n",
       "      <td>7</td>\n",
       "      <td>5.0</td>\n",
       "      <td>d</td>\n",
       "      <td>38.0</td>\n",
       "      <td>34.0</td>\n",
       "      <td>new</td>\n",
       "      <td>167.64</td>\n",
       "      <td>Emily</td>\n",
       "      <td>just right</td>\n",
       "      <td>small</td>\n",
       "      <td>991571</td>\n",
       "      <td>NaN</td>\n",
       "      <td>NaN</td>\n",
       "    </tr>\n",
       "    <tr>\n",
       "      <th>1</th>\n",
       "      <td>123373</td>\n",
       "      <td>13</td>\n",
       "      <td>3.0</td>\n",
       "      <td>b</td>\n",
       "      <td>30.0</td>\n",
       "      <td>36.0</td>\n",
       "      <td>new</td>\n",
       "      <td>157.48</td>\n",
       "      <td>sydneybraden2001</td>\n",
       "      <td>just right</td>\n",
       "      <td>small</td>\n",
       "      <td>587883</td>\n",
       "      <td>NaN</td>\n",
       "      <td>NaN</td>\n",
       "    </tr>\n",
       "    <tr>\n",
       "      <th>2</th>\n",
       "      <td>123373</td>\n",
       "      <td>7</td>\n",
       "      <td>2.0</td>\n",
       "      <td>b</td>\n",
       "      <td>NaN</td>\n",
       "      <td>32.0</td>\n",
       "      <td>new</td>\n",
       "      <td>170.18</td>\n",
       "      <td>Ugggh</td>\n",
       "      <td>slightly long</td>\n",
       "      <td>small</td>\n",
       "      <td>395665</td>\n",
       "      <td>NaN</td>\n",
       "      <td>NaN</td>\n",
       "    </tr>\n",
       "    <tr>\n",
       "      <th>3</th>\n",
       "      <td>123373</td>\n",
       "      <td>21</td>\n",
       "      <td>5.0</td>\n",
       "      <td>dd/e</td>\n",
       "      <td>NaN</td>\n",
       "      <td>NaN</td>\n",
       "      <td>new</td>\n",
       "      <td>NaN</td>\n",
       "      <td>alexmeyer626</td>\n",
       "      <td>just right</td>\n",
       "      <td>fit</td>\n",
       "      <td>875643</td>\n",
       "      <td>NaN</td>\n",
       "      <td>NaN</td>\n",
       "    </tr>\n",
       "    <tr>\n",
       "      <th>4</th>\n",
       "      <td>123373</td>\n",
       "      <td>18</td>\n",
       "      <td>5.0</td>\n",
       "      <td>b</td>\n",
       "      <td>NaN</td>\n",
       "      <td>36.0</td>\n",
       "      <td>new</td>\n",
       "      <td>157.48</td>\n",
       "      <td>dberrones1</td>\n",
       "      <td>slightly long</td>\n",
       "      <td>small</td>\n",
       "      <td>944840</td>\n",
       "      <td>NaN</td>\n",
       "      <td>NaN</td>\n",
       "    </tr>\n",
       "    <tr>\n",
       "      <th>...</th>\n",
       "      <td>...</td>\n",
       "      <td>...</td>\n",
       "      <td>...</td>\n",
       "      <td>...</td>\n",
       "      <td>...</td>\n",
       "      <td>...</td>\n",
       "      <td>...</td>\n",
       "      <td>...</td>\n",
       "      <td>...</td>\n",
       "      <td>...</td>\n",
       "      <td>...</td>\n",
       "      <td>...</td>\n",
       "      <td>...</td>\n",
       "      <td>...</td>\n",
       "    </tr>\n",
       "    <tr>\n",
       "      <th>71255</th>\n",
       "      <td>807722</td>\n",
       "      <td>8</td>\n",
       "      <td>4.0</td>\n",
       "      <td>b</td>\n",
       "      <td>NaN</td>\n",
       "      <td>36.0</td>\n",
       "      <td>outerwear</td>\n",
       "      <td>172.72</td>\n",
       "      <td>Jennifer</td>\n",
       "      <td>just right</td>\n",
       "      <td>fit</td>\n",
       "      <td>727820</td>\n",
       "      <td>Cute jacket!</td>\n",
       "      <td>Cute jacket!</td>\n",
       "    </tr>\n",
       "    <tr>\n",
       "      <th>71256</th>\n",
       "      <td>807722</td>\n",
       "      <td>12</td>\n",
       "      <td>5.0</td>\n",
       "      <td>ddd/f</td>\n",
       "      <td>NaN</td>\n",
       "      <td>34.0</td>\n",
       "      <td>outerwear</td>\n",
       "      <td>165.10</td>\n",
       "      <td>Kelli</td>\n",
       "      <td>slightly long</td>\n",
       "      <td>small</td>\n",
       "      <td>197040</td>\n",
       "      <td>It's a beautiful jacket.</td>\n",
       "      <td>It's a beautiful jacket. I love how it's knit ...</td>\n",
       "    </tr>\n",
       "    <tr>\n",
       "      <th>71257</th>\n",
       "      <td>807722</td>\n",
       "      <td>12</td>\n",
       "      <td>5.0</td>\n",
       "      <td>dddd/g</td>\n",
       "      <td>36.0</td>\n",
       "      <td>32.0</td>\n",
       "      <td>outerwear</td>\n",
       "      <td>162.56</td>\n",
       "      <td>elacount</td>\n",
       "      <td>just right</td>\n",
       "      <td>fit</td>\n",
       "      <td>102493</td>\n",
       "      <td>I love this blazer. It is</td>\n",
       "      <td>I love this blazer. It is a great office piece...</td>\n",
       "    </tr>\n",
       "    <tr>\n",
       "      <th>71258</th>\n",
       "      <td>807722</td>\n",
       "      <td>12</td>\n",
       "      <td>4.0</td>\n",
       "      <td>NaN</td>\n",
       "      <td>NaN</td>\n",
       "      <td>NaN</td>\n",
       "      <td>outerwear</td>\n",
       "      <td>160.02</td>\n",
       "      <td>jennaklinner</td>\n",
       "      <td>just right</td>\n",
       "      <td>fit</td>\n",
       "      <td>756491</td>\n",
       "      <td>I love this blazer!! I wo</td>\n",
       "      <td>I love this blazer!! I wore it yesterday and g...</td>\n",
       "    </tr>\n",
       "    <tr>\n",
       "      <th>71259</th>\n",
       "      <td>807722</td>\n",
       "      <td>4</td>\n",
       "      <td>4.0</td>\n",
       "      <td>d</td>\n",
       "      <td>39.0</td>\n",
       "      <td>32.0</td>\n",
       "      <td>outerwear</td>\n",
       "      <td>182.88</td>\n",
       "      <td>maireadsteadman</td>\n",
       "      <td>just right</td>\n",
       "      <td>fit</td>\n",
       "      <td>78305</td>\n",
       "      <td>I love this piece. I'm re</td>\n",
       "      <td>I love this piece. I'm really happy with it!</td>\n",
       "    </tr>\n",
       "  </tbody>\n",
       "</table>\n",
       "<p>71260 rows × 14 columns</p>\n",
       "</div>"
      ],
      "text/plain": [
       "       item_id  size  quality cup_size  hips  bra_size   category  height  \\\n",
       "0       123373     7      5.0        d  38.0      34.0        new  167.64   \n",
       "1       123373    13      3.0        b  30.0      36.0        new  157.48   \n",
       "2       123373     7      2.0        b   NaN      32.0        new  170.18   \n",
       "3       123373    21      5.0     dd/e   NaN       NaN        new     NaN   \n",
       "4       123373    18      5.0        b   NaN      36.0        new  157.48   \n",
       "...        ...   ...      ...      ...   ...       ...        ...     ...   \n",
       "71255   807722     8      4.0        b   NaN      36.0  outerwear  172.72   \n",
       "71256   807722    12      5.0    ddd/f   NaN      34.0  outerwear  165.10   \n",
       "71257   807722    12      5.0   dddd/g  36.0      32.0  outerwear  162.56   \n",
       "71258   807722    12      4.0      NaN   NaN       NaN  outerwear  160.02   \n",
       "71259   807722     4      4.0        d  39.0      32.0  outerwear  182.88   \n",
       "\n",
       "              user_name         length    fit  user_id  \\\n",
       "0                 Emily     just right  small   991571   \n",
       "1      sydneybraden2001     just right  small   587883   \n",
       "2                 Ugggh  slightly long  small   395665   \n",
       "3          alexmeyer626     just right    fit   875643   \n",
       "4            dberrones1  slightly long  small   944840   \n",
       "...                 ...            ...    ...      ...   \n",
       "71255          Jennifer     just right    fit   727820   \n",
       "71256             Kelli  slightly long  small   197040   \n",
       "71257          elacount     just right    fit   102493   \n",
       "71258      jennaklinner     just right    fit   756491   \n",
       "71259   maireadsteadman     just right    fit    78305   \n",
       "\n",
       "                  review_summary  \\\n",
       "0                            NaN   \n",
       "1                            NaN   \n",
       "2                            NaN   \n",
       "3                            NaN   \n",
       "4                            NaN   \n",
       "...                          ...   \n",
       "71255               Cute jacket!   \n",
       "71256   It's a beautiful jacket.   \n",
       "71257  I love this blazer. It is   \n",
       "71258  I love this blazer!! I wo   \n",
       "71259  I love this piece. I'm re   \n",
       "\n",
       "                                             review_text  \n",
       "0                                                    NaN  \n",
       "1                                                    NaN  \n",
       "2                                                    NaN  \n",
       "3                                                    NaN  \n",
       "4                                                    NaN  \n",
       "...                                                  ...  \n",
       "71255                                       Cute jacket!  \n",
       "71256  It's a beautiful jacket. I love how it's knit ...  \n",
       "71257  I love this blazer. It is a great office piece...  \n",
       "71258  I love this blazer!! I wore it yesterday and g...  \n",
       "71259       I love this piece. I'm really happy with it!  \n",
       "\n",
       "[71260 rows x 14 columns]"
      ]
     },
     "execution_count": 27,
     "metadata": {},
     "output_type": "execute_result"
    }
   ],
   "source": [
    "modcloth_df"
   ]
  },
  {
   "cell_type": "code",
   "execution_count": 28,
   "metadata": {
    "colab": {},
    "colab_type": "code",
    "id": "ajZCsaHZtVQk"
   },
   "outputs": [],
   "source": [
    "imputed_value = []\n",
    "for x,y in zip(modcloth_df[\"bra_size\"],modcloth_df[\"cup_size\"]):\n",
    "  if pd.isnull(x) and pd.isnull(y):\n",
    "    imputed_value.append([bra_size_med, cup_size_mod])\n",
    "  elif pd.isnull(x) and pd.notnull(y):\n",
    "    imputed_value.append([cup_size_to_bra_size[y], y])\n",
    "  elif pd.notnull(x) and pd.isnull(y):\n",
    "    imputed_value.append([x, bra_size_to_cup_size[x]])\n",
    "  else:\n",
    "    imputed_value.append([x,y])"
   ]
  },
  {
   "cell_type": "code",
   "execution_count": 29,
   "metadata": {
    "colab": {},
    "colab_type": "code",
    "id": "B8PBrvS7uoq-"
   },
   "outputs": [
    {
     "name": "stderr",
     "output_type": "stream",
     "text": [
      "C:\\Users\\Raja\\anaconda3\\envs\\env2\\lib\\site-packages\\pandas\\core\\indexing.py:966: SettingWithCopyWarning: \n",
      "A value is trying to be set on a copy of a slice from a DataFrame.\n",
      "Try using .loc[row_indexer,col_indexer] = value instead\n",
      "\n",
      "See the caveats in the documentation: https://pandas.pydata.org/pandas-docs/stable/user_guide/indexing.html#returning-a-view-versus-a-copy\n",
      "  self.obj[item] = s\n"
     ]
    }
   ],
   "source": [
    "modcloth_df.loc[:,[\"bra_size\",\"cup_size\"]] = imputed_value"
   ]
  },
  {
   "cell_type": "markdown",
   "metadata": {
    "colab_type": "text",
    "id": "jnq5pH5DTMVg"
   },
   "source": [
    "Although i have done this imputation but if i had dataset from fixed genders i would have kept the NAs as unknowns because it doesn't make business sense to hard impute values for all the kind of users."
   ]
  },
  {
   "cell_type": "markdown",
   "metadata": {
    "colab_type": "text",
    "id": "s0pxCU0bzEKt"
   },
   "source": [
    "### Handling Review text and summary"
   ]
  },
  {
   "cell_type": "code",
   "execution_count": 30,
   "metadata": {
    "colab": {},
    "colab_type": "code",
    "id": "w7NucAaGu4zD"
   },
   "outputs": [
    {
     "name": "stderr",
     "output_type": "stream",
     "text": [
      "C:\\Users\\Raja\\anaconda3\\envs\\env2\\lib\\site-packages\\pandas\\core\\generic.py:6245: SettingWithCopyWarning: \n",
      "A value is trying to be set on a copy of a slice from a DataFrame\n",
      "\n",
      "See the caveats in the documentation: https://pandas.pydata.org/pandas-docs/stable/user_guide/indexing.html#returning-a-view-versus-a-copy\n",
      "  self._update_inplace(new_data)\n"
     ]
    }
   ],
   "source": [
    "modcloth_df.review_summary.fillna(\"Unknown\", inplace=True)\n",
    "modcloth_df.review_text.fillna(\"Unknown\", inplace=True)"
   ]
  },
  {
   "cell_type": "markdown",
   "metadata": {
    "colab_type": "text",
    "id": "BnYJF-nxzKUr"
   },
   "source": [
    "### Handling height, quality and length data"
   ]
  },
  {
   "cell_type": "code",
   "execution_count": 31,
   "metadata": {
    "colab": {
     "base_uri": "https://localhost:8080/",
     "height": 70
    },
    "colab_type": "code",
    "id": "qMInzO9ZxATi",
    "outputId": "b9e005ac-e2af-45fc-82d9-71b7efc5086f"
   },
   "outputs": [],
   "source": [
    "# from sklearn.preprocessing import Imputer\n",
    "# median_imputer = Imputer(missing_values='NaN', strategy='median', axis=0)\n",
    "# modcloth_df[['height','quality']] = median_imputer.fit_transform(modcloth_df[['height','quality']])"
   ]
  },
  {
   "cell_type": "code",
   "execution_count": 32,
   "metadata": {},
   "outputs": [
    {
     "name": "stderr",
     "output_type": "stream",
     "text": [
      "C:\\Users\\Raja\\anaconda3\\envs\\env2\\lib\\site-packages\\ipykernel_launcher.py:3: SettingWithCopyWarning: \n",
      "A value is trying to be set on a copy of a slice from a DataFrame.\n",
      "Try using .loc[row_indexer,col_indexer] = value instead\n",
      "\n",
      "See the caveats in the documentation: https://pandas.pydata.org/pandas-docs/stable/user_guide/indexing.html#returning-a-view-versus-a-copy\n",
      "  This is separate from the ipykernel package so we can avoid doing imports until\n",
      "C:\\Users\\Raja\\anaconda3\\envs\\env2\\lib\\site-packages\\pandas\\core\\indexing.py:966: SettingWithCopyWarning: \n",
      "A value is trying to be set on a copy of a slice from a DataFrame.\n",
      "Try using .loc[row_indexer,col_indexer] = value instead\n",
      "\n",
      "See the caveats in the documentation: https://pandas.pydata.org/pandas-docs/stable/user_guide/indexing.html#returning-a-view-versus-a-copy\n",
      "  self.obj[item] = s\n"
     ]
    }
   ],
   "source": [
    "from sklearn.impute import SimpleImputer\n",
    "median_imputer = SimpleImputer(missing_values=np.nan, strategy='median')\n",
    "modcloth_df[['height','quality']] = median_imputer.fit_transform(modcloth_df[['height','quality']])\n",
    "\n",
    "# imputer = SimpleImputer(missing_values=np.nan, strategy='mean')"
   ]
  },
  {
   "cell_type": "code",
   "execution_count": 33,
   "metadata": {
    "colab": {},
    "colab_type": "code",
    "id": "sCl9E4T4yDKP"
   },
   "outputs": [
    {
     "name": "stderr",
     "output_type": "stream",
     "text": [
      "C:\\Users\\Raja\\anaconda3\\envs\\env2\\lib\\site-packages\\ipykernel_launcher.py:1: SettingWithCopyWarning: \n",
      "A value is trying to be set on a copy of a slice from a DataFrame.\n",
      "Try using .loc[row_indexer,col_indexer] = value instead\n",
      "\n",
      "See the caveats in the documentation: https://pandas.pydata.org/pandas-docs/stable/user_guide/indexing.html#returning-a-view-versus-a-copy\n",
      "  \"\"\"Entry point for launching an IPython kernel.\n"
     ]
    }
   ],
   "source": [
    "modcloth_df[\"length\"] = modcloth_df.length.fillna(modcloth_df['length'].value_counts().index[0])"
   ]
  },
  {
   "cell_type": "code",
   "execution_count": 34,
   "metadata": {
    "colab": {
     "base_uri": "https://localhost:8080/",
     "height": 504
    },
    "colab_type": "code",
    "id": "SV-01JbIyEZ7",
    "outputId": "341320d2-7136-4dd7-a00e-503ff7e055ef"
   },
   "outputs": [
    {
     "data": {
      "text/plain": [
       "<matplotlib.axes._subplots.AxesSubplot at 0x2458ed8c888>"
      ]
     },
     "execution_count": 34,
     "metadata": {},
     "output_type": "execute_result"
    },
    {
     "data": {
      "image/png": "[encoded data removed]",
      "text/plain": [
       "<Figure size 1440x576 with 1 Axes>"
      ]
     },
     "metadata": {
      "needs_background": "light"
     },
     "output_type": "display_data"
    }
   ],
   "source": [
    "modcloth_df.hips.plot.kde()"
   ]
  },
  {
   "cell_type": "code",
   "execution_count": 35,
   "metadata": {
    "colab": {},
    "colab_type": "code",
    "id": "HSKoYMi8zYp0"
   },
   "outputs": [
    {
     "name": "stderr",
     "output_type": "stream",
     "text": [
      "C:\\Users\\Raja\\anaconda3\\envs\\env2\\lib\\site-packages\\pandas\\core\\generic.py:6245: SettingWithCopyWarning: \n",
      "A value is trying to be set on a copy of a slice from a DataFrame\n",
      "\n",
      "See the caveats in the documentation: https://pandas.pydata.org/pandas-docs/stable/user_guide/indexing.html#returning-a-view-versus-a-copy\n",
      "  self._update_inplace(new_data)\n",
      "C:\\Users\\Raja\\anaconda3\\envs\\env2\\lib\\site-packages\\pandas\\core\\generic.py:5303: SettingWithCopyWarning: \n",
      "A value is trying to be set on a copy of a slice from a DataFrame.\n",
      "Try using .loc[row_indexer,col_indexer] = value instead\n",
      "\n",
      "See the caveats in the documentation: https://pandas.pydata.org/pandas-docs/stable/user_guide/indexing.html#returning-a-view-versus-a-copy\n",
      "  self[name] = value\n"
     ]
    }
   ],
   "source": [
    "modcloth_df.hips.fillna(-1.0, inplace = True)\n",
    "bins = [-2,0,31,37,40,44,75]\n",
    "labels = ['Unknown','XS','S','M', 'L','XL']\n",
    "modcloth_df.hips = pd.cut(modcloth_df.hips, bins, labels=labels)"
   ]
  },
  {
   "cell_type": "markdown",
   "metadata": {
    "colab_type": "text",
    "id": "gfg6vzAzjoDQ"
   },
   "source": [
    "It is also observed that review_summary text is randomly truncated and hence is not that useful as compared to review_text column.\n"
   ]
  },
  {
   "cell_type": "code",
   "execution_count": 36,
   "metadata": {
    "colab": {},
    "colab_type": "code",
    "id": "jtO4RPE3j0ZN"
   },
   "outputs": [
    {
     "name": "stderr",
     "output_type": "stream",
     "text": [
      "C:\\Users\\Raja\\anaconda3\\envs\\env2\\lib\\site-packages\\pandas\\core\\frame.py:3997: SettingWithCopyWarning: \n",
      "A value is trying to be set on a copy of a slice from a DataFrame\n",
      "\n",
      "See the caveats in the documentation: https://pandas.pydata.org/pandas-docs/stable/user_guide/indexing.html#returning-a-view-versus-a-copy\n",
      "  errors=errors,\n"
     ]
    }
   ],
   "source": [
    "modcloth_df.drop('review_summary', axis=1, inplace = True)"
   ]
  },
  {
   "cell_type": "code",
   "execution_count": 37,
   "metadata": {
    "colab": {},
    "colab_type": "code",
    "id": "mcaR3tXl0_nE"
   },
   "outputs": [],
   "source": [
    "name_id_df = modcloth_df.groupby(\"user_name\")['user_id'].apply(lambda x: len(np.unique(x))).reset_index()\n",
    "id_name_df = modcloth_df.groupby(\"user_id\")['user_name'].apply(lambda x: len(np.unique(x))).reset_index()\n"
   ]
  },
  {
   "cell_type": "markdown",
   "metadata": {
    "colab_type": "text",
    "id": "T83hanLqlrF4"
   },
   "source": [
    "On analysis it looks like that the user_name needs to be normalized by lowering them and also user_id is not he the correct column to keep as one user_name has many user_id but one user_id has just one type of user_name on normalization"
   ]
  },
  {
   "cell_type": "code",
   "execution_count": 38,
   "metadata": {
    "colab": {},
    "colab_type": "code",
    "id": "dlNSncd-lszE"
   },
   "outputs": [
    {
     "name": "stderr",
     "output_type": "stream",
     "text": [
      "C:\\Users\\Raja\\anaconda3\\envs\\env2\\lib\\site-packages\\ipykernel_launcher.py:2: SettingWithCopyWarning: \n",
      "A value is trying to be set on a copy of a slice from a DataFrame.\n",
      "Try using .loc[row_indexer,col_indexer] = value instead\n",
      "\n",
      "See the caveats in the documentation: https://pandas.pydata.org/pandas-docs/stable/user_guide/indexing.html#returning-a-view-versus-a-copy\n",
      "  \n"
     ]
    }
   ],
   "source": [
    "modcloth_df.drop('user_id', axis=1, inplace = True)\n",
    "modcloth_df[\"user_name\"] = modcloth_df.user_name.apply(lambda x: x.lower())"
   ]
  },
  {
   "cell_type": "code",
   "execution_count": 39,
   "metadata": {
    "colab": {
     "base_uri": "https://localhost:8080/",
     "height": 34
    },
    "colab_type": "code",
    "id": "fM9WcViQqFSY",
    "outputId": "9b0bef80-9a6f-44b3-9084-9aca6c2872d2"
   },
   "outputs": [],
   "source": [
    "try:\n",
    "  # %tensorflow_version only exists in Colab.\n",
    "  %tensorflow_version 2.x\n",
    "except Exception:\n",
    "  pass\n",
    "\n",
    "import tensorflow as tf\n",
    "from tensorflow import keras\n",
    "from tensorflow import feature_column\n",
    "from sklearn.model_selection import train_test_split"
   ]
  },
  {
   "cell_type": "code",
   "execution_count": 40,
   "metadata": {
    "colab": {
     "base_uri": "https://localhost:8080/",
     "height": 34
    },
    "colab_type": "code",
    "id": "zsBbaRbv_Chw",
    "outputId": "90589adb-1924-437e-a098-2ecabc95a1af"
   },
   "outputs": [
    {
     "data": {
      "text/plain": [
       "'2.0.0'"
      ]
     },
     "execution_count": 40,
     "metadata": {},
     "output_type": "execute_result"
    }
   ],
   "source": [
    "tf.__version__"
   ]
  },
  {
   "cell_type": "markdown",
   "metadata": {
    "colab_type": "text",
    "id": "CRI4DfVdouWH"
   },
   "source": [
    "# Building a Deep learning model inspired by architecture in the given paper,\n",
    "# https://arxiv.org/pdf/1907.09844.pdf (Fig 1)\n"
   ]
  },
  {
   "cell_type": "code",
   "execution_count": 41,
   "metadata": {
    "colab": {},
    "colab_type": "code",
    "id": "Db45RdHGRuzw"
   },
   "outputs": [],
   "source": [
    "# Split into train and validation dataset, i am not showing any performance on \n",
    "# test dataset for now,\n",
    "train, val = train_test_split(modcloth_df, test_size=0.2)"
   ]
  },
  {
   "cell_type": "code",
   "execution_count": 42,
   "metadata": {
    "colab": {},
    "colab_type": "code",
    "id": "BR1Uj7faU2Q3"
   },
   "outputs": [],
   "source": [
    "user_categorical_features = [\"user_name\",\"hips\",\"cup_size\"]\n",
    "user_numerical_features = [\"height\",\"bra_size\"]\n",
    "item_categorical_features = [\"item_id\", \"category\", \"length\"]\n",
    "item_numerical_features = [\"size\",\"quality\"]"
   ]
  },
  {
   "cell_type": "code",
   "execution_count": 43,
   "metadata": {
    "colab": {},
    "colab_type": "code",
    "id": "_vRF6HPHTxPj"
   },
   "outputs": [],
   "source": [
    "# Scaling the numerical features\n",
    "from sklearn import preprocessing\n",
    "scaler = preprocessing.MinMaxScaler().fit(train[[\"height\",\"bra_size\",\"size\",\"quality\"]])"
   ]
  },
  {
   "cell_type": "code",
   "execution_count": 44,
   "metadata": {},
   "outputs": [
    {
     "name": "stdout",
     "output_type": "stream",
     "text": [
      "       item_id  size  quality cup_size     hips  bra_size   category  height  \\\n",
      "50526   650890     4      4.0        b        S      32.0       tops  172.72   \n",
      "2321    136482    12      2.0    ddd/f        L      34.0        new  170.18   \n",
      "146     124124     8      4.0        c  Unknown      32.0        new  162.56   \n",
      "69235   792875     4      5.0        a  Unknown      34.0  outerwear  154.94   \n",
      "64461   757242    15      4.0    ddd/f  Unknown      38.0    bottoms  167.64   \n",
      "...        ...   ...      ...      ...      ...       ...        ...     ...   \n",
      "56502   693560    12      5.0        d        S      32.0    bottoms  165.10   \n",
      "57550   697855    20      4.0     dd/e       XL      34.0    bottoms  154.94   \n",
      "42825   530472    15      3.0        c        L      38.0       tops  167.64   \n",
      "69833   803768     8      3.0        b  Unknown      34.0  outerwear  175.26   \n",
      "1286    126885     4      3.0        b        S      34.0        new  165.10   \n",
      "\n",
      "                user_name         length    fit  \\\n",
      "50526            ipopcorn     just right    fit   \n",
      "2321          kandriacchi     just right    fit   \n",
      "146        ashleyjprosser     just right    fit   \n",
      "69235          rubysayard     just right    fit   \n",
      "64461    kathleen.hackney  slightly long  small   \n",
      "...                   ...            ...    ...   \n",
      "56502  lauramariewarfield  slightly long  large   \n",
      "57550      andrealwittman     just right  large   \n",
      "42825              nicola     just right    fit   \n",
      "69833         kala.jewett     just right    fit   \n",
      "1286            mess nest  slightly long  small   \n",
      "\n",
      "                                             review_text  \n",
      "50526  I absolutely love this shirt......the fabric i...  \n",
      "2321                                             Unknown  \n",
      "146                                              Unknown  \n",
      "69235  This is the most flattering jacket I've ever w...  \n",
      "64461  The stretch waistband fit well and the shape w...  \n",
      "...                                                  ...  \n",
      "56502  This skirt is lovely and very high quality. It...  \n",
      "57550  I'm a size 14 but only 5'1 so these worked per...  \n",
      "42825           Great graphic tee in a flattering style.  \n",
      "69833               A little itchy inside but very cute.  \n",
      "1286                                             Unknown  \n",
      "\n",
      "[57008 rows x 12 columns]\n",
      "----------------after----------------\n",
      "       item_id      size  quality cup_size     hips  bra_size   category  \\\n",
      "50526   650890  0.166667     0.75        b        S     0.250       tops   \n",
      "2321    136482  0.500000     0.25    ddd/f        L     0.375        new   \n",
      "146     124124  0.333333     0.75        c  Unknown     0.250        new   \n",
      "69235   792875  0.166667     1.00        a  Unknown     0.375  outerwear   \n",
      "64461   757242  0.625000     0.75    ddd/f  Unknown     0.625    bottoms   \n",
      "...        ...       ...      ...      ...      ...       ...        ...   \n",
      "56502   693560  0.500000     1.00        d        S     0.250    bottoms   \n",
      "57550   697855  0.833333     0.75     dd/e       XL     0.375    bottoms   \n",
      "42825   530472  0.625000     0.50        c        L     0.625       tops   \n",
      "69833   803768  0.333333     0.50        b  Unknown     0.375  outerwear   \n",
      "1286    126885  0.166667     0.50        b        S     0.375        new   \n",
      "\n",
      "         height           user_name         length    fit  \\\n",
      "50526  0.666667            ipopcorn     just right    fit   \n",
      "2321   0.600000         kandriacchi     just right    fit   \n",
      "146    0.400000      ashleyjprosser     just right    fit   \n",
      "69235  0.200000          rubysayard     just right    fit   \n",
      "64461  0.533333    kathleen.hackney  slightly long  small   \n",
      "...         ...                 ...            ...    ...   \n",
      "56502  0.466667  lauramariewarfield  slightly long  large   \n",
      "57550  0.200000      andrealwittman     just right  large   \n",
      "42825  0.533333              nicola     just right    fit   \n",
      "69833  0.733333         kala.jewett     just right    fit   \n",
      "1286   0.466667           mess nest  slightly long  small   \n",
      "\n",
      "                                             review_text  \n",
      "50526  I absolutely love this shirt......the fabric i...  \n",
      "2321                                             Unknown  \n",
      "146                                              Unknown  \n",
      "69235  This is the most flattering jacket I've ever w...  \n",
      "64461  The stretch waistband fit well and the shape w...  \n",
      "...                                                  ...  \n",
      "56502  This skirt is lovely and very high quality. It...  \n",
      "57550  I'm a size 14 but only 5'1 so these worked per...  \n",
      "42825           Great graphic tee in a flattering style.  \n",
      "69833               A little itchy inside but very cute.  \n",
      "1286                                             Unknown  \n",
      "\n",
      "[57008 rows x 12 columns]\n"
     ]
    },
    {
     "name": "stderr",
     "output_type": "stream",
     "text": [
      "C:\\Users\\Raja\\anaconda3\\envs\\env2\\lib\\site-packages\\pandas\\core\\indexing.py:966: SettingWithCopyWarning: \n",
      "A value is trying to be set on a copy of a slice from a DataFrame.\n",
      "Try using .loc[row_indexer,col_indexer] = value instead\n",
      "\n",
      "See the caveats in the documentation: https://pandas.pydata.org/pandas-docs/stable/user_guide/indexing.html#returning-a-view-versus-a-copy\n",
      "  self.obj[item] = s\n"
     ]
    }
   ],
   "source": [
    "tr = scaler.transform(train.loc[:, (\"height\",\"bra_size\",\"size\",\"quality\")])\n",
    "va = scaler.transform(val.loc[:, (\"height\",\"bra_size\",\"size\",\"quality\")])\n",
    "\n",
    "print(train)\n",
    "\n",
    "train.loc[:, (\"height\",\"bra_size\",\"size\",\"quality\")] = tr\n",
    "val.loc[:, (\"height\",\"bra_size\",\"size\",\"quality\")] = va\n",
    "print(\"----------------after----------------\")\n",
    "print(train)"
   ]
  },
  {
   "cell_type": "code",
   "execution_count": 45,
   "metadata": {},
   "outputs": [],
   "source": [
    "\n",
    "# d = {'col1': [1, 2, 6], 'col2': [3, 4, 7], 'col3': [5, 6, 1], 'col4': [7, 8, 0]}\n",
    "# df = pd.DataFrame(data=d)\n",
    "\n",
    "# df.loc[1, (\"col1\", \"col2\", \"col3\", \"col4\")]=tr[0]\n",
    "# df\n"
   ]
  },
  {
   "cell_type": "code",
   "execution_count": 46,
   "metadata": {
    "colab": {},
    "colab_type": "code",
    "id": "1NBUviEkdilu"
   },
   "outputs": [
    {
     "data": {
      "text/plain": [
       "['user_name', 'hips', 'cup_size']"
      ]
     },
     "execution_count": 46,
     "metadata": {},
     "output_type": "execute_result"
    }
   ],
   "source": [
    "user_categorical_features"
   ]
  },
  {
   "cell_type": "code",
   "execution_count": 47,
   "metadata": {
    "colab": {},
    "colab_type": "code",
    "id": "L5ybn-B7tuKl"
   },
   "outputs": [
    {
     "name": "stderr",
     "output_type": "stream",
     "text": [
      "C:\\Users\\Raja\\anaconda3\\envs\\env2\\lib\\site-packages\\ipykernel_launcher.py:2: SettingWithCopyWarning: \n",
      "A value is trying to be set on a copy of a slice from a DataFrame.\n",
      "Try using .loc[row_indexer,col_indexer] = value instead\n",
      "\n",
      "See the caveats in the documentation: https://pandas.pydata.org/pandas-docs/stable/user_guide/indexing.html#returning-a-view-versus-a-copy\n",
      "  \n"
     ]
    }
   ],
   "source": [
    "for col in user_categorical_features + item_categorical_features:\n",
    "  modcloth_df[col] = modcloth_df[col].astype(str) "
   ]
  },
  {
   "cell_type": "code",
   "execution_count": 48,
   "metadata": {},
   "outputs": [
    {
     "data": {
      "text/html": [
       "<div>\n",
       "<style scoped>\n",
       "    .dataframe tbody tr th:only-of-type {\n",
       "        vertical-align: middle;\n",
       "    }\n",
       "\n",
       "    .dataframe tbody tr th {\n",
       "        vertical-align: top;\n",
       "    }\n",
       "\n",
       "    .dataframe thead th {\n",
       "        text-align: right;\n",
       "    }\n",
       "</style>\n",
       "<table border=\"1\" class=\"dataframe\">\n",
       "  <thead>\n",
       "    <tr style=\"text-align: right;\">\n",
       "      <th></th>\n",
       "      <th>item_id</th>\n",
       "      <th>size</th>\n",
       "      <th>quality</th>\n",
       "      <th>cup_size</th>\n",
       "      <th>hips</th>\n",
       "      <th>bra_size</th>\n",
       "      <th>category</th>\n",
       "      <th>height</th>\n",
       "      <th>user_name</th>\n",
       "      <th>length</th>\n",
       "      <th>fit</th>\n",
       "      <th>review_text</th>\n",
       "    </tr>\n",
       "  </thead>\n",
       "  <tbody>\n",
       "    <tr>\n",
       "      <th>0</th>\n",
       "      <td>123373</td>\n",
       "      <td>7</td>\n",
       "      <td>5.0</td>\n",
       "      <td>d</td>\n",
       "      <td>M</td>\n",
       "      <td>34.0</td>\n",
       "      <td>new</td>\n",
       "      <td>167.64</td>\n",
       "      <td>emily</td>\n",
       "      <td>just right</td>\n",
       "      <td>small</td>\n",
       "      <td>Unknown</td>\n",
       "    </tr>\n",
       "    <tr>\n",
       "      <th>1</th>\n",
       "      <td>123373</td>\n",
       "      <td>13</td>\n",
       "      <td>3.0</td>\n",
       "      <td>b</td>\n",
       "      <td>XS</td>\n",
       "      <td>36.0</td>\n",
       "      <td>new</td>\n",
       "      <td>157.48</td>\n",
       "      <td>sydneybraden2001</td>\n",
       "      <td>just right</td>\n",
       "      <td>small</td>\n",
       "      <td>Unknown</td>\n",
       "    </tr>\n",
       "    <tr>\n",
       "      <th>2</th>\n",
       "      <td>123373</td>\n",
       "      <td>7</td>\n",
       "      <td>2.0</td>\n",
       "      <td>b</td>\n",
       "      <td>Unknown</td>\n",
       "      <td>32.0</td>\n",
       "      <td>new</td>\n",
       "      <td>170.18</td>\n",
       "      <td>ugggh</td>\n",
       "      <td>slightly long</td>\n",
       "      <td>small</td>\n",
       "      <td>Unknown</td>\n",
       "    </tr>\n",
       "    <tr>\n",
       "      <th>3</th>\n",
       "      <td>123373</td>\n",
       "      <td>21</td>\n",
       "      <td>5.0</td>\n",
       "      <td>dd/e</td>\n",
       "      <td>Unknown</td>\n",
       "      <td>36.0</td>\n",
       "      <td>new</td>\n",
       "      <td>165.10</td>\n",
       "      <td>alexmeyer626</td>\n",
       "      <td>just right</td>\n",
       "      <td>fit</td>\n",
       "      <td>Unknown</td>\n",
       "    </tr>\n",
       "    <tr>\n",
       "      <th>4</th>\n",
       "      <td>123373</td>\n",
       "      <td>18</td>\n",
       "      <td>5.0</td>\n",
       "      <td>b</td>\n",
       "      <td>Unknown</td>\n",
       "      <td>36.0</td>\n",
       "      <td>new</td>\n",
       "      <td>157.48</td>\n",
       "      <td>dberrones1</td>\n",
       "      <td>slightly long</td>\n",
       "      <td>small</td>\n",
       "      <td>Unknown</td>\n",
       "    </tr>\n",
       "    <tr>\n",
       "      <th>...</th>\n",
       "      <td>...</td>\n",
       "      <td>...</td>\n",
       "      <td>...</td>\n",
       "      <td>...</td>\n",
       "      <td>...</td>\n",
       "      <td>...</td>\n",
       "      <td>...</td>\n",
       "      <td>...</td>\n",
       "      <td>...</td>\n",
       "      <td>...</td>\n",
       "      <td>...</td>\n",
       "      <td>...</td>\n",
       "    </tr>\n",
       "    <tr>\n",
       "      <th>71255</th>\n",
       "      <td>807722</td>\n",
       "      <td>8</td>\n",
       "      <td>4.0</td>\n",
       "      <td>b</td>\n",
       "      <td>Unknown</td>\n",
       "      <td>36.0</td>\n",
       "      <td>outerwear</td>\n",
       "      <td>172.72</td>\n",
       "      <td>jennifer</td>\n",
       "      <td>just right</td>\n",
       "      <td>fit</td>\n",
       "      <td>Cute jacket!</td>\n",
       "    </tr>\n",
       "    <tr>\n",
       "      <th>71256</th>\n",
       "      <td>807722</td>\n",
       "      <td>12</td>\n",
       "      <td>5.0</td>\n",
       "      <td>ddd/f</td>\n",
       "      <td>Unknown</td>\n",
       "      <td>34.0</td>\n",
       "      <td>outerwear</td>\n",
       "      <td>165.10</td>\n",
       "      <td>kelli</td>\n",
       "      <td>slightly long</td>\n",
       "      <td>small</td>\n",
       "      <td>It's a beautiful jacket. I love how it's knit ...</td>\n",
       "    </tr>\n",
       "    <tr>\n",
       "      <th>71257</th>\n",
       "      <td>807722</td>\n",
       "      <td>12</td>\n",
       "      <td>5.0</td>\n",
       "      <td>dddd/g</td>\n",
       "      <td>S</td>\n",
       "      <td>32.0</td>\n",
       "      <td>outerwear</td>\n",
       "      <td>162.56</td>\n",
       "      <td>elacount</td>\n",
       "      <td>just right</td>\n",
       "      <td>fit</td>\n",
       "      <td>I love this blazer. It is a great office piece...</td>\n",
       "    </tr>\n",
       "    <tr>\n",
       "      <th>71258</th>\n",
       "      <td>807722</td>\n",
       "      <td>12</td>\n",
       "      <td>4.0</td>\n",
       "      <td>b</td>\n",
       "      <td>Unknown</td>\n",
       "      <td>34.0</td>\n",
       "      <td>outerwear</td>\n",
       "      <td>160.02</td>\n",
       "      <td>jennaklinner</td>\n",
       "      <td>just right</td>\n",
       "      <td>fit</td>\n",
       "      <td>I love this blazer!! I wore it yesterday and g...</td>\n",
       "    </tr>\n",
       "    <tr>\n",
       "      <th>71259</th>\n",
       "      <td>807722</td>\n",
       "      <td>4</td>\n",
       "      <td>4.0</td>\n",
       "      <td>d</td>\n",
       "      <td>M</td>\n",
       "      <td>32.0</td>\n",
       "      <td>outerwear</td>\n",
       "      <td>182.88</td>\n",
       "      <td>maireadsteadman</td>\n",
       "      <td>just right</td>\n",
       "      <td>fit</td>\n",
       "      <td>I love this piece. I'm really happy with it!</td>\n",
       "    </tr>\n",
       "  </tbody>\n",
       "</table>\n",
       "<p>71260 rows × 12 columns</p>\n",
       "</div>"
      ],
      "text/plain": [
       "      item_id  size  quality cup_size     hips  bra_size   category  height  \\\n",
       "0      123373     7      5.0        d        M      34.0        new  167.64   \n",
       "1      123373    13      3.0        b       XS      36.0        new  157.48   \n",
       "2      123373     7      2.0        b  Unknown      32.0        new  170.18   \n",
       "3      123373    21      5.0     dd/e  Unknown      36.0        new  165.10   \n",
       "4      123373    18      5.0        b  Unknown      36.0        new  157.48   \n",
       "...       ...   ...      ...      ...      ...       ...        ...     ...   \n",
       "71255  807722     8      4.0        b  Unknown      36.0  outerwear  172.72   \n",
       "71256  807722    12      5.0    ddd/f  Unknown      34.0  outerwear  165.10   \n",
       "71257  807722    12      5.0   dddd/g        S      32.0  outerwear  162.56   \n",
       "71258  807722    12      4.0        b  Unknown      34.0  outerwear  160.02   \n",
       "71259  807722     4      4.0        d        M      32.0  outerwear  182.88   \n",
       "\n",
       "              user_name         length    fit  \\\n",
       "0                 emily     just right  small   \n",
       "1      sydneybraden2001     just right  small   \n",
       "2                 ugggh  slightly long  small   \n",
       "3          alexmeyer626     just right    fit   \n",
       "4            dberrones1  slightly long  small   \n",
       "...                 ...            ...    ...   \n",
       "71255          jennifer     just right    fit   \n",
       "71256             kelli  slightly long  small   \n",
       "71257          elacount     just right    fit   \n",
       "71258      jennaklinner     just right    fit   \n",
       "71259   maireadsteadman     just right    fit   \n",
       "\n",
       "                                             review_text  \n",
       "0                                                Unknown  \n",
       "1                                                Unknown  \n",
       "2                                                Unknown  \n",
       "3                                                Unknown  \n",
       "4                                                Unknown  \n",
       "...                                                  ...  \n",
       "71255                                       Cute jacket!  \n",
       "71256  It's a beautiful jacket. I love how it's knit ...  \n",
       "71257  I love this blazer. It is a great office piece...  \n",
       "71258  I love this blazer!! I wore it yesterday and g...  \n",
       "71259       I love this piece. I'm really happy with it!  \n",
       "\n",
       "[71260 rows x 12 columns]"
      ]
     },
     "execution_count": 48,
     "metadata": {},
     "output_type": "execute_result"
    }
   ],
   "source": [
    "modcloth_df"
   ]
  },
  {
   "cell_type": "code",
   "execution_count": 49,
   "metadata": {},
   "outputs": [
    {
     "data": {
      "text/plain": [
       "NumericColumn(key='length', shape=(1,), default_value=None, dtype=tf.float32, normalizer_fn=None)"
      ]
     },
     "execution_count": 49,
     "metadata": {},
     "output_type": "execute_result"
    }
   ],
   "source": [
    "feature_column.numeric_column(col)"
   ]
  },
  {
   "cell_type": "code",
   "execution_count": 50,
   "metadata": {
    "colab": {},
    "colab_type": "code",
    "id": "uUxRtvrjvRk-"
   },
   "outputs": [],
   "source": [
    "# 1) Create feature columns for ingestion into NN\n",
    "\n",
    "# Numeric Columns\n",
    "numeric_users = {\n",
    "    col : feature_column.numeric_column(col) \\\n",
    "          for col in user_numerical_features\n",
    "}\n",
    "numeric_items = {\n",
    "    col : feature_column.numeric_column(col) \\\n",
    "          for col in item_numerical_features\n",
    "}\n",
    "\n",
    "# Categorical Columns\n",
    "# Now categorical columns can be encoded into one-hot vectors and fed into NN\n",
    "# But the paper has used embedding and hence we can use the same (generally used for\n",
    "# a categroical feature with lots of categories, but let us see)\n",
    "\n",
    "hips = feature_column.categorical_column_with_vocabulary_list(\n",
    "      'hips', modcloth_df.hips.unique().tolist())\n",
    "cup_size = feature_column.categorical_column_with_vocabulary_list(\n",
    "      'cup_size', modcloth_df.cup_size.unique().tolist())\n",
    "user_name = feature_column.categorical_column_with_vocabulary_list(\n",
    "      'user_name', modcloth_df.user_name.unique().tolist())\n",
    "\n",
    "\n",
    "\n",
    "item_id = feature_column.categorical_column_with_vocabulary_list(\n",
    "      'item_id', modcloth_df.item_id.unique().tolist())\n",
    "category = feature_column.categorical_column_with_vocabulary_list(\n",
    "      'category', modcloth_df.category.unique().tolist())\n",
    "length = feature_column.categorical_column_with_vocabulary_list(\n",
    "      'length', modcloth_df.length.unique().tolist())\n",
    "\n",
    "# There are 6 dimension hyperparameters to be given here which is a lot,\n",
    "# hence for now i am giving these values, later we will see if we can\n",
    "# somehow guide the decision via cross-val\n",
    "hips_embedding = feature_column.embedding_column(hips, dimension=5)\n",
    "cup_size_embedding = feature_column.embedding_column(cup_size, dimension=5)\n",
    "user_name_embedding = feature_column.embedding_column(user_name, dimension=50)\n",
    "item_id_embedding = feature_column.embedding_column(item_id, dimension=50)\n",
    "category_embedding = feature_column.embedding_column(category, dimension=5)\n",
    "length_embedding = feature_column.embedding_column(length, dimension=5)\n",
    "\n",
    "cat_users = {\n",
    "    'hips' : hips_embedding,\n",
    "    'cup_size' : cup_size_embedding,\n",
    "    'user_name': user_name_embedding\n",
    "}\n",
    "\n",
    "cat_items = {\n",
    "    'item_id' : item_id_embedding,\n",
    "    'category' : category_embedding,\n",
    "    'length': length_embedding\n",
    "}\n",
    "\n",
    "input_user = {\n",
    "    colname : tf.keras.layers.Input(name=colname, shape=(), dtype='float32') \\\n",
    "          for colname in numeric_users.keys()\n",
    "}\n",
    "input_user.update({\n",
    "    colname : tf.keras.layers.Input(name=colname, shape=(),  dtype='string') \\\n",
    "          for colname in cat_users.keys()\n",
    "})\n",
    "\n",
    "input_items = {\n",
    "    colname : tf.keras.layers.Input(name=colname, shape=(), dtype = 'float32') \\\n",
    "          for colname in numeric_items.keys()\n",
    "}\n",
    "\n",
    "input_items.update({\n",
    "    colname : tf.keras.layers.Input(name=colname, shape=(),  dtype='string') \\\n",
    "          for colname in cat_items.keys()\n",
    "})\n"
   ]
  },
  {
   "cell_type": "code",
   "execution_count": 51,
   "metadata": {},
   "outputs": [
    {
     "data": {
      "text/plain": [
       "{'size': <tf.Tensor 'size:0' shape=(None,) dtype=float32>,\n",
       " 'quality': <tf.Tensor 'quality:0' shape=(None,) dtype=float32>,\n",
       " 'item_id': <tf.Tensor 'item_id:0' shape=(None,) dtype=string>,\n",
       " 'category': <tf.Tensor 'category:0' shape=(None,) dtype=string>,\n",
       " 'length': <tf.Tensor 'length:0' shape=(None,) dtype=string>}"
      ]
     },
     "execution_count": 51,
     "metadata": {},
     "output_type": "execute_result"
    }
   ],
   "source": [
    "input_items"
   ]
  },
  {
   "cell_type": "code",
   "execution_count": 52,
   "metadata": {
    "colab": {},
    "colab_type": "code",
    "id": "MOsKB3xA44VG"
   },
   "outputs": [],
   "source": [
    "# Create a feature layer\n",
    "feature_layer_users = keras.layers.DenseFeatures(numeric_users.values())(input_user)\n",
    "feature_layer_items = keras.layers.DenseFeatures(numeric_items.values())(input_items)"
   ]
  },
  {
   "cell_type": "code",
   "execution_count": 53,
   "metadata": {
    "colab": {},
    "colab_type": "code",
    "id": "TSe_JVKu8dQc"
   },
   "outputs": [],
   "source": [
    "CLASS_LABELS =  np.array([\"fit\",\"small\",\"large\"])"
   ]
  },
  {
   "cell_type": "code",
   "execution_count": 54,
   "metadata": {
    "colab": {},
    "colab_type": "code",
    "id": "bu5SoYRKZvKF"
   },
   "outputs": [],
   "source": [
    "# 2) Create a input pipeline using tf.data\n",
    "# A utility method to create a tf.data dataset from a Pandas Dataframe\n",
    "import copy\n",
    "def df_to_dataset(dataframe, shuffle=True, batch_size=32):\n",
    "  dataframe = dataframe.copy()\n",
    "  labels = dataframe.pop('fit')\n",
    "  labels = labels.apply(lambda x:x == CLASS_LABELS)\n",
    "  ds = tf.data.Dataset.from_tensor_slices((dict(dataframe), labels))\n",
    "  if shuffle:\n",
    "    ds = ds.shuffle(buffer_size=len(dataframe))\n",
    "  ds = ds.batch(batch_size)\n",
    "  #prefetching was giving some trouble on google colab,\n",
    "  #there might be some issue with some gdfs, hence not here\n",
    "  return ds"
   ]
  },
  {
   "cell_type": "markdown",
   "metadata": {
    "colab_type": "text",
    "id": "Rypm1PUqpwUp"
   },
   "source": [
    "The class defined below is basically the trapezium blocks show in Fig 1 of the paper, this is how i am thinking that skip connections would have been formed (there are no details or implementation available to reinforce my believe)."
   ]
  },
  {
   "cell_type": "code",
   "execution_count": 55,
   "metadata": {
    "colab": {},
    "colab_type": "code",
    "id": "2bicw80_oz2B"
   },
   "outputs": [],
   "source": [
    "class SkipCon(keras.layers.Layer):\n",
    "  def __init__(self, size, reduce = True, deep = 3, skip_when=0, activation=\"relu\", **kwargs):\n",
    "    \"\"\"\n",
    "    @Params\n",
    "    size = size of dense layer\n",
    "    deep = the depth of network in one SkipCon block call\n",
    "    skip_when =  if a skip connection is required, pass 1\n",
    "    activation = by default using relu, in the paper authors have used tanh(no reasons again)\n",
    "    \"\"\"    \n",
    "    super().__init__(**kwargs)\n",
    "    self.activation = keras.activations.get(activation) # used to combine\n",
    "    # skip connections and cascaded dense layers\n",
    "    self.main_layers =[]\n",
    "    self.skip_when = skip_when #to be used in call as a control\n",
    "    if reduce:\n",
    "      for _ in range(deep):\n",
    "        self.main_layers.extend([\n",
    "          keras.layers.Dense(size, activation=activation, \n",
    "                              use_bias=True),\n",
    "          keras.layers.BatchNormalization()])\n",
    "\n",
    "        # Reduce the input size by two each time, if the\n",
    "        # network is to be designed deeper and narrow\n",
    "        size = size/2\n",
    "    else:\n",
    "      for _ in range(deep):\n",
    "        self.main_layers.extend([\n",
    "        keras.layers.Dense(size, activation=activation, \n",
    "                            use_bias=True),\n",
    "        keras.layers.BatchNormalization()])\n",
    "        \n",
    "    self.skip_layers = []\n",
    "    if skip_when > 0:\n",
    "      if reduce:\n",
    "        size = size*2 # since the size of skipped connection  \n",
    "                      # should match with cascaded dense\n",
    "      self.skip_layers = [\n",
    "          keras.layers.Dense(size, activation=activation, \n",
    "                          use_bias=True),\n",
    "          keras.layers.BatchNormalization()]\n",
    "\n",
    "  def call(self, inputs):\n",
    "    Z = inputs\n",
    "    for layer in self.main_layers:\n",
    "      Z = layer(Z)\n",
    "    if not self.skip_when:\n",
    "      return self.activation(Z)\n",
    "    skip_Z = inputs\n",
    "    for layer in self.skip_layers:\n",
    "      skip_Z = layer(skip_Z)\n",
    "    return self.activation(Z + skip_Z)"
   ]
  },
  {
   "cell_type": "code",
   "execution_count": 56,
   "metadata": {
    "colab": {},
    "colab_type": "code",
    "id": "gGFT5zOgNClT"
   },
   "outputs": [],
   "source": [
    "batch_size = 512 # paper they have taken 2048 batch size, but no clear explanation\n",
    "# tanh activation is used, but i am using relu\n",
    "train_ds = df_to_dataset(train, batch_size=batch_size)\n",
    "val_ds = df_to_dataset(val, shuffle=False, batch_size=batch_size)\n",
    "\n"
   ]
  },
  {
   "cell_type": "code",
   "execution_count": 57,
   "metadata": {
    "colab": {},
    "colab_type": "code",
    "id": "m1xuyuepky1J"
   },
   "outputs": [],
   "source": [
    "user_layer = keras.layers.Dense(256, activation='relu', use_bias = True)(feature_layer_users)\n",
    "# Add a Skip Connection\n",
    "user_layer = SkipCon(size = 256, deep = 2, reduce = False, skip_when=1, activation=\"relu\")(user_layer)\n",
    "user_layer = keras.layers.Dropout(0.5)(user_layer) # Way to handle overfitting\n",
    "user_layer = SkipCon(size = 256, deep = 2, reduce = True, skip_when=1, activation=\"relu\")(user_layer)\n",
    "user_layer = keras.layers.Dropout(0.5)(user_layer)\n",
    "user_layer = SkipCon(size = 64, deep = 2, reduce = True, skip_when=0, activation=\"relu\")(user_layer)\n",
    "\n",
    "\n",
    "item_layer = keras.layers.Dense(256, activation='relu', use_bias = True)(feature_layer_items)\n",
    "# Add a Skip Connection\n",
    "item_layer = SkipCon(size = 256, deep = 2, reduce = False, skip_when=1, activation=\"relu\")(item_layer)\n",
    "item_layer = keras.layers.Dropout(0.5)(item_layer) # Way to handle overfitting\n",
    "item_layer = SkipCon(size = 256, deep = 2, reduce = True, skip_when=1, activation=\"relu\")(item_layer)\n",
    "item_layer = keras.layers.Dropout(0.5)(item_layer)\n",
    "item_layer = SkipCon(size = 64, deep = 2, reduce = True, skip_when=0, activation=\"relu\")(item_layer)\n",
    "\n",
    "\n",
    "# combine the output of the two branches\n",
    "combined = tf.concat([user_layer, item_layer], axis =-1)\n",
    "\n",
    "# The combined input should go through another set of skip connection non-linearity as per the paper\n",
    "both_layer = SkipCon(size = 128, deep = 2, reduce = False, skip_when=1, activation=\"relu\")(combined)\n",
    "both_layer = keras.layers.Dropout(0.5)(both_layer)\n",
    "both_layer = SkipCon(size = 64, deep = 2, reduce = False, skip_when=1, activation=\"relu\")(combined)\n",
    "both_layer = keras.layers.Dropout(0.5)(both_layer)\n",
    "both_layer = SkipCon(size = 16, deep = 2, reduce = False, skip_when=0, activation=\"relu\")(both_layer)\n",
    "\n",
    "z = keras.layers.Dense(3, activation=\"softmax\")(both_layer)\n",
    "\n",
    "model = keras.Model(inputs=[input_user, input_items], outputs=z)\n",
    "\n"
   ]
  },
  {
   "cell_type": "code",
   "execution_count": 58,
   "metadata": {
    "colab": {},
    "colab_type": "code",
    "id": "hlzw-U8_QK4r"
   },
   "outputs": [],
   "source": [
    "# Another control put in place to handle overfitting\n",
    "early_stopping = tf.keras.callbacks.EarlyStopping(\n",
    "    monitor='val_auc', \n",
    "    verbose=1,\n",
    "    patience=10,\n",
    "    mode='max',\n",
    "    restore_best_weights=True)\n",
    "\n",
    "METRICS = [\n",
    "      keras.metrics.TruePositives(name='tp'),\n",
    "      keras.metrics.FalsePositives(name='fp'),\n",
    "      keras.metrics.TrueNegatives(name='tn'),\n",
    "      keras.metrics.FalseNegatives(name='fn'), \n",
    "      keras.metrics.BinaryAccuracy(name='accuracy'),\n",
    "      keras.metrics.Precision(name='precision'),\n",
    "      keras.metrics.Recall(name='recall'),\n",
    "      keras.metrics.AUC(name='auc'),\n",
    "]\n",
    "optimizer = keras.optimizers.SGD(lr=0.1, momentum=0.9, decay=0.01)\n",
    "model.compile(optimizer= optimizer,\n",
    "              loss='categorical_crossentropy',\n",
    "              metrics=METRICS,\n",
    "              callbacks = [early_stopping])\n"
   ]
  },
  {
   "cell_type": "code",
   "execution_count": 59,
   "metadata": {
    "colab": {
     "base_uri": "https://localhost:8080/",
     "height": 541
    },
    "colab_type": "code",
    "id": "3mMT4KXvDEn0",
    "outputId": "19bced81-a4a1-4691-bfb4-c39ddab91f15",
    "scrolled": false
   },
   "outputs": [
    {
     "name": "stdout",
     "output_type": "stream",
     "text": [
      "Epoch 1/15\n",
      "112/112 [==============================] - 39s 352ms/step - loss: 0.8523 - tp: 38066.0000 - fp: 16612.0000 - tn: 97404.0000 - fn: 18942.0000 - accuracy: 0.7921 - precision: 0.6962 - recall: 0.6677 - auc: 0.7777 - val_loss: 0.0000e+00 - val_tp: 0.0000e+00 - val_fp: 0.0000e+00 - val_tn: 0.0000e+00 - val_fn: 0.0000e+00 - val_accuracy: 0.0000e+00 - val_precision: 0.0000e+00 - val_recall: 0.0000e+00 - val_auc: 0.0000e+00\n",
      "Epoch 2/15\n",
      "112/112 [==============================] - 13s 114ms/step - loss: 0.8135 - tp: 39675.0000 - fp: 16891.0000 - tn: 97125.0000 - fn: 17333.0000 - accuracy: 0.7999 - precision: 0.7014 - recall: 0.6960 - auc: 0.7934 - val_loss: 0.8066 - val_tp: 10065.0000 - val_fp: 4187.0000 - val_tn: 24317.0000 - val_fn: 4187.0000 - val_accuracy: 0.8041 - val_precision: 0.7062 - val_recall: 0.7062 - val_auc: 0.8052\n",
      "Epoch 3/15\n",
      "112/112 [==============================] - 13s 119ms/step - loss: 0.8106 - tp: 39610.0000 - fp: 16849.0000 - tn: 97167.0000 - fn: 17398.0000 - accuracy: 0.7998 - precision: 0.7016 - recall: 0.6948 - auc: 0.7994 - val_loss: 0.8013 - val_tp: 10065.0000 - val_fp: 4187.0000 - val_tn: 24317.0000 - val_fn: 4187.0000 - val_accuracy: 0.8041 - val_precision: 0.7062 - val_recall: 0.7062 - val_auc: 0.8076\n",
      "Epoch 4/15\n",
      "112/112 [==============================] - 14s 124ms/step - loss: 0.8081 - tp: 39550.0000 - fp: 16726.0000 - tn: 97290.0000 - fn: 17458.0000 - accuracy: 0.8001 - precision: 0.7028 - recall: 0.6938 - auc: 0.8032 - val_loss: 0.7945 - val_tp: 10057.0000 - val_fp: 4171.0000 - val_tn: 24333.0000 - val_fn: 4195.0000 - val_accuracy: 0.8043 - val_precision: 0.7068 - val_recall: 0.7057 - val_auc: 0.8162\n",
      "Epoch 5/15\n",
      "112/112 [==============================] - 14s 128ms/step - loss: 0.8058 - tp: 39482.0000 - fp: 16654.0000 - tn: 97362.0000 - fn: 17526.0000 - accuracy: 0.8001 - precision: 0.7033 - recall: 0.6926 - auc: 0.8058 - val_loss: 0.7904 - val_tp: 10045.0000 - val_fp: 4154.0000 - val_tn: 24350.0000 - val_fn: 4207.0000 - val_accuracy: 0.8044 - val_precision: 0.7074 - val_recall: 0.7048 - val_auc: 0.8167\n",
      "Epoch 6/15\n",
      "112/112 [==============================] - 15s 136ms/step - loss: 0.8045 - tp: 39438.0000 - fp: 16603.0000 - tn: 97413.0000 - fn: 17570.0000 - accuracy: 0.8002 - precision: 0.7037 - recall: 0.6918 - auc: 0.8076 - val_loss: 0.7880 - val_tp: 10020.0000 - val_fp: 4118.0000 - val_tn: 24386.0000 - val_fn: 4232.0000 - val_accuracy: 0.8047 - val_precision: 0.7087 - val_recall: 0.7031 - val_auc: 0.8182\n",
      "Epoch 7/15\n",
      "112/112 [==============================] - 16s 146ms/step - loss: 0.8029 - tp: 39427.0000 - fp: 16626.0000 - tn: 97390.0000 - fn: 17581.0000 - accuracy: 0.8000 - precision: 0.7034 - recall: 0.6916 - auc: 0.8092 - val_loss: 0.7858 - val_tp: 10004.0000 - val_fp: 4099.0000 - val_tn: 24405.0000 - val_fn: 4248.0000 - val_accuracy: 0.8048 - val_precision: 0.7094 - val_recall: 0.7019 - val_auc: 0.8198\n",
      "Epoch 8/15\n",
      "112/112 [==============================] - 14s 125ms/step - loss: 0.8032 - tp: 39440.0000 - fp: 16659.0000 - tn: 97357.0000 - fn: 17568.0000 - accuracy: 0.7999 - precision: 0.7030 - recall: 0.6918 - auc: 0.8098 - val_loss: 0.7852 - val_tp: 10011.0000 - val_fp: 4104.0000 - val_tn: 24400.0000 - val_fn: 4241.0000 - val_accuracy: 0.8048 - val_precision: 0.7092 - val_recall: 0.7024 - val_auc: 0.8196\n",
      "Epoch 9/15\n",
      "112/112 [==============================] - 17s 148ms/step - loss: 0.8015 - tp: 39358.0000 - fp: 16497.0000 - tn: 97519.0000 - fn: 17650.0000 - accuracy: 0.8003 - precision: 0.7046 - recall: 0.6904 - auc: 0.8102 - val_loss: 0.7838 - val_tp: 9980.0000 - val_fp: 4057.0000 - val_tn: 24447.0000 - val_fn: 4272.0000 - val_accuracy: 0.8052 - val_precision: 0.7110 - val_recall: 0.7003 - val_auc: 0.8215\n",
      "Epoch 10/15\n",
      "112/112 [==============================] - 15s 131ms/step - loss: 0.8009 - tp: 39373.0000 - fp: 16511.0000 - tn: 97505.0000 - fn: 17635.0000 - accuracy: 0.8003 - precision: 0.7045 - recall: 0.6907 - auc: 0.8109 - val_loss: 0.7836 - val_tp: 9986.0000 - val_fp: 4067.0000 - val_tn: 24437.0000 - val_fn: 4266.0000 - val_accuracy: 0.8051 - val_precision: 0.7106 - val_recall: 0.7007 - val_auc: 0.8213\n",
      "Epoch 11/15\n",
      "112/112 [==============================] - 15s 137ms/step - loss: 0.8003 - tp: 39346.0000 - fp: 16476.0000 - tn: 97540.0000 - fn: 17662.0000 - accuracy: 0.8004 - precision: 0.7048 - recall: 0.6902 - auc: 0.8121 - val_loss: 0.7833 - val_tp: 9952.0000 - val_fp: 4017.0000 - val_tn: 24487.0000 - val_fn: 4300.0000 - val_accuracy: 0.8055 - val_precision: 0.7124 - val_recall: 0.6983 - val_auc: 0.8215\n",
      "Epoch 12/15\n",
      "112/112 [==============================] - 14s 128ms/step - loss: 0.8003 - tp: 39359.0000 - fp: 16533.0000 - tn: 97483.0000 - fn: 17649.0000 - accuracy: 0.8001 - precision: 0.7042 - recall: 0.6904 - auc: 0.8121 - val_loss: 0.7830 - val_tp: 9948.0000 - val_fp: 4015.0000 - val_tn: 24489.0000 - val_fn: 4304.0000 - val_accuracy: 0.8054 - val_precision: 0.7125 - val_recall: 0.6980 - val_auc: 0.8217\n",
      "Epoch 13/15\n",
      "112/112 [==============================] - 14s 121ms/step - loss: 0.7989 - tp: 39335.0000 - fp: 16471.0000 - tn: 97545.0000 - fn: 17673.0000 - accuracy: 0.8004 - precision: 0.7049 - recall: 0.6900 - auc: 0.8128 - val_loss: 0.7830 - val_tp: 9982.0000 - val_fp: 4063.0000 - val_tn: 24441.0000 - val_fn: 4270.0000 - val_accuracy: 0.8051 - val_precision: 0.7107 - val_recall: 0.7004 - val_auc: 0.8217\n",
      "Epoch 14/15\n",
      "112/112 [==============================] - 14s 129ms/step - loss: 0.7985 - tp: 39334.0000 - fp: 16468.0000 - tn: 97548.0000 - fn: 17674.0000 - accuracy: 0.8004 - precision: 0.7049 - recall: 0.6900 - auc: 0.8133 - val_loss: 0.7827 - val_tp: 9965.0000 - val_fp: 4047.0000 - val_tn: 24457.0000 - val_fn: 4287.0000 - val_accuracy: 0.8051 - val_precision: 0.7112 - val_recall: 0.6992 - val_auc: 0.8220\n",
      "Epoch 15/15\n",
      "112/112 [==============================] - 15s 132ms/step - loss: 0.7980 - tp: 39388.0000 - fp: 16497.0000 - tn: 97519.0000 - fn: 17620.0000 - accuracy: 0.8005 - precision: 0.7048 - recall: 0.6909 - auc: 0.8134 - val_loss: 0.7825 - val_tp: 9849.0000 - val_fp: 3924.0000 - val_tn: 24580.0000 - val_fn: 4403.0000 - val_accuracy: 0.8052 - val_precision: 0.7151 - val_recall: 0.6911 - val_auc: 0.8222\n"
     ]
    }
   ],
   "source": [
    "history = model.fit(train_ds,\n",
    "          validation_data=val_ds,\n",
    "          epochs=15)"
   ]
  },
  {
   "cell_type": "code",
   "execution_count": 60,
   "metadata": {},
   "outputs": [
    {
     "name": "stdout",
     "output_type": "stream",
     "text": [
      "Model: \"model\"\n",
      "__________________________________________________________________________________________________\n",
      "Layer (type)                    Output Shape         Param #     Connected to                     \n",
      "==================================================================================================\n",
      "bra_size (InputLayer)           [(None,)]            0                                            \n",
      "__________________________________________________________________________________________________\n",
      "cup_size (InputLayer)           [(None,)]            0                                            \n",
      "__________________________________________________________________________________________________\n",
      "height (InputLayer)             [(None,)]            0                                            \n",
      "__________________________________________________________________________________________________\n",
      "hips (InputLayer)               [(None,)]            0                                            \n",
      "__________________________________________________________________________________________________\n",
      "user_name (InputLayer)          [(None,)]            0                                            \n",
      "__________________________________________________________________________________________________\n",
      "category (InputLayer)           [(None,)]            0                                            \n",
      "__________________________________________________________________________________________________\n",
      "item_id (InputLayer)            [(None,)]            0                                            \n",
      "__________________________________________________________________________________________________\n",
      "length (InputLayer)             [(None,)]            0                                            \n",
      "__________________________________________________________________________________________________\n",
      "quality (InputLayer)            [(None,)]            0                                            \n",
      "__________________________________________________________________________________________________\n",
      "size (InputLayer)               [(None,)]            0                                            \n",
      "__________________________________________________________________________________________________\n",
      "dense_features (DenseFeatures)  (None, 2)            0           bra_size[0][0]                   \n",
      "                                                                 cup_size[0][0]                   \n",
      "                                                                 height[0][0]                     \n",
      "                                                                 hips[0][0]                       \n",
      "                                                                 user_name[0][0]                  \n",
      "__________________________________________________________________________________________________\n",
      "dense_features_1 (DenseFeatures (None, 2)            0           category[0][0]                   \n",
      "                                                                 item_id[0][0]                    \n",
      "                                                                 length[0][0]                     \n",
      "                                                                 quality[0][0]                    \n",
      "                                                                 size[0][0]                       \n",
      "__________________________________________________________________________________________________\n",
      "dense (Dense)                   (None, 256)          768         dense_features[0][0]             \n",
      "__________________________________________________________________________________________________\n",
      "dense_9 (Dense)                 (None, 256)          768         dense_features_1[0][0]           \n",
      "__________________________________________________________________________________________________\n",
      "skip_con (SkipCon)              (None, 256)          200448      dense[0][0]                      \n",
      "__________________________________________________________________________________________________\n",
      "skip_con_3 (SkipCon)            (None, 256)          200448      dense_9[0][0]                    \n",
      "__________________________________________________________________________________________________\n",
      "dropout (Dropout)               (None, 256)          0           skip_con[0][0]                   \n",
      "__________________________________________________________________________________________________\n",
      "dropout_2 (Dropout)             (None, 256)          0           skip_con_3[0][0]                 \n",
      "__________________________________________________________________________________________________\n",
      "skip_con_1 (SkipCon)            (None, 128)          133632      dropout[0][0]                    \n",
      "__________________________________________________________________________________________________\n",
      "skip_con_4 (SkipCon)            (None, 128)          133632      dropout_2[0][0]                  \n",
      "__________________________________________________________________________________________________\n",
      "dropout_1 (Dropout)             (None, 128)          0           skip_con_1[0][0]                 \n",
      "__________________________________________________________________________________________________\n",
      "dropout_3 (Dropout)             (None, 128)          0           skip_con_4[0][0]                 \n",
      "__________________________________________________________________________________________________\n",
      "skip_con_2 (SkipCon)            (None, 32)           10720       dropout_1[0][0]                  \n",
      "__________________________________________________________________________________________________\n",
      "skip_con_5 (SkipCon)            (None, 32)           10720       dropout_3[0][0]                  \n",
      "__________________________________________________________________________________________________\n",
      "tf_op_layer_concat (TensorFlowO [(None, 64)]         0           skip_con_2[0][0]                 \n",
      "                                                                 skip_con_5[0][0]                 \n",
      "__________________________________________________________________________________________________\n",
      "skip_con_7 (SkipCon)            (None, 64)           13248       tf_op_layer_concat[0][0]         \n",
      "__________________________________________________________________________________________________\n",
      "dropout_5 (Dropout)             (None, 64)           0           skip_con_7[0][0]                 \n",
      "__________________________________________________________________________________________________\n",
      "skip_con_8 (SkipCon)            (None, 16)           1440        dropout_5[0][0]                  \n",
      "__________________________________________________________________________________________________\n",
      "dense_26 (Dense)                (None, 3)            51          skip_con_8[0][0]                 \n",
      "==================================================================================================\n",
      "Total params: 705,875\n",
      "Trainable params: 699,923\n",
      "Non-trainable params: 5,952\n",
      "__________________________________________________________________________________________________\n"
     ]
    }
   ],
   "source": [
    "model.summary()"
   ]
  },
  {
   "cell_type": "code",
   "execution_count": 64,
   "metadata": {},
   "outputs": [
    {
     "name": "stdout",
     "output_type": "stream",
     "text": [
      "<TensorSliceDataset shapes: {item_id: (), size: (), quality: (), cup_size: (), hips: (), bra_size: (), category: (), height: (), user_name: (), length: (), fit: (), review_text: ()}, types: {item_id: tf.int32, size: tf.float64, quality: tf.float64, cup_size: tf.string, hips: tf.string, bra_size: tf.float64, category: tf.string, height: tf.float64, user_name: tf.string, length: tf.string, fit: tf.string, review_text: tf.string}>\n"
     ]
    }
   ],
   "source": [
    "# raja= train\n",
    "ds1 = tf.data.Dataset.from_tensor_slices(dict(raja))\n",
    "print(ds1)\n",
    "# raja1=df_to_dataset(raja, batch_size=2)\n",
    "# raja\n"
   ]
  },
  {
   "cell_type": "code",
   "execution_count": 66,
   "metadata": {},
   "outputs": [
    {
     "ename": "ValueError",
     "evalue": "Error when checking input: expected bra_size to have 1 dimensions, but got array with shape ()",
     "output_type": "error",
     "traceback": [
      "\u001b[1;31m---------------------------------------------------------------------------\u001b[0m",
      "\u001b[1;31mValueError\u001b[0m                                Traceback (most recent call last)",
      "\u001b[1;32m<ipython-input-66-6b5d05aad0d6>\u001b[0m in \u001b[0;36m<module>\u001b[1;34m\u001b[0m\n\u001b[0;32m     20\u001b[0m \u001b[0mnp\u001b[0m\u001b[1;33m.\u001b[0m\u001b[0mset_printoptions\u001b[0m\u001b[1;33m(\u001b[0m\u001b[0mthreshold\u001b[0m\u001b[1;33m=\u001b[0m\u001b[1;36m10\u001b[0m\u001b[1;33m)\u001b[0m\u001b[1;33m\u001b[0m\u001b[1;33m\u001b[0m\u001b[0m\n\u001b[0;32m     21\u001b[0m \u001b[1;31m# print(asha)\u001b[0m\u001b[1;33m\u001b[0m\u001b[1;33m\u001b[0m\u001b[1;33m\u001b[0m\u001b[0m\n\u001b[1;32m---> 22\u001b[1;33m \u001b[0mmodel\u001b[0m\u001b[1;33m.\u001b[0m\u001b[0mpredict\u001b[0m\u001b[1;33m(\u001b[0m\u001b[0mds1\u001b[0m\u001b[1;33m)\u001b[0m\u001b[1;33m\u001b[0m\u001b[1;33m\u001b[0m\u001b[0m\n\u001b[0m",
      "\u001b[1;32m~\\anaconda3\\envs\\env2\\lib\\site-packages\\tensorflow_core\\python\\keras\\engine\\training.py\u001b[0m in \u001b[0;36mpredict\u001b[1;34m(self, x, batch_size, verbose, steps, callbacks, max_queue_size, workers, use_multiprocessing)\u001b[0m\n\u001b[0;32m    907\u001b[0m         \u001b[0mmax_queue_size\u001b[0m\u001b[1;33m=\u001b[0m\u001b[0mmax_queue_size\u001b[0m\u001b[1;33m,\u001b[0m\u001b[1;33m\u001b[0m\u001b[1;33m\u001b[0m\u001b[0m\n\u001b[0;32m    908\u001b[0m         \u001b[0mworkers\u001b[0m\u001b[1;33m=\u001b[0m\u001b[0mworkers\u001b[0m\u001b[1;33m,\u001b[0m\u001b[1;33m\u001b[0m\u001b[1;33m\u001b[0m\u001b[0m\n\u001b[1;32m--> 909\u001b[1;33m         use_multiprocessing=use_multiprocessing)\n\u001b[0m\u001b[0;32m    910\u001b[0m \u001b[1;33m\u001b[0m\u001b[0m\n\u001b[0;32m    911\u001b[0m   \u001b[1;32mdef\u001b[0m \u001b[0mreset_metrics\u001b[0m\u001b[1;33m(\u001b[0m\u001b[0mself\u001b[0m\u001b[1;33m)\u001b[0m\u001b[1;33m:\u001b[0m\u001b[1;33m\u001b[0m\u001b[1;33m\u001b[0m\u001b[0m\n",
      "\u001b[1;32m~\\anaconda3\\envs\\env2\\lib\\site-packages\\tensorflow_core\\python\\keras\\engine\\training_v2.py\u001b[0m in \u001b[0;36mpredict\u001b[1;34m(self, model, x, batch_size, verbose, steps, callbacks, **kwargs)\u001b[0m\n\u001b[0;32m    460\u001b[0m     return self._model_iteration(\n\u001b[0;32m    461\u001b[0m         \u001b[0mmodel\u001b[0m\u001b[1;33m,\u001b[0m \u001b[0mModeKeys\u001b[0m\u001b[1;33m.\u001b[0m\u001b[0mPREDICT\u001b[0m\u001b[1;33m,\u001b[0m \u001b[0mx\u001b[0m\u001b[1;33m=\u001b[0m\u001b[0mx\u001b[0m\u001b[1;33m,\u001b[0m \u001b[0mbatch_size\u001b[0m\u001b[1;33m=\u001b[0m\u001b[0mbatch_size\u001b[0m\u001b[1;33m,\u001b[0m \u001b[0mverbose\u001b[0m\u001b[1;33m=\u001b[0m\u001b[0mverbose\u001b[0m\u001b[1;33m,\u001b[0m\u001b[1;33m\u001b[0m\u001b[1;33m\u001b[0m\u001b[0m\n\u001b[1;32m--> 462\u001b[1;33m         steps=steps, callbacks=callbacks, **kwargs)\n\u001b[0m\u001b[0;32m    463\u001b[0m \u001b[1;33m\u001b[0m\u001b[0m\n\u001b[0;32m    464\u001b[0m \u001b[1;33m\u001b[0m\u001b[0m\n",
      "\u001b[1;32m~\\anaconda3\\envs\\env2\\lib\\site-packages\\tensorflow_core\\python\\keras\\engine\\training_v2.py\u001b[0m in \u001b[0;36m_model_iteration\u001b[1;34m(self, model, mode, x, y, batch_size, verbose, sample_weight, steps, callbacks, **kwargs)\u001b[0m\n\u001b[0;32m    442\u001b[0m               \u001b[0mmode\u001b[0m\u001b[1;33m=\u001b[0m\u001b[0mmode\u001b[0m\u001b[1;33m,\u001b[0m\u001b[1;33m\u001b[0m\u001b[1;33m\u001b[0m\u001b[0m\n\u001b[0;32m    443\u001b[0m               \u001b[0mtraining_context\u001b[0m\u001b[1;33m=\u001b[0m\u001b[0mtraining_context\u001b[0m\u001b[1;33m,\u001b[0m\u001b[1;33m\u001b[0m\u001b[1;33m\u001b[0m\u001b[0m\n\u001b[1;32m--> 444\u001b[1;33m               total_epochs=1)\n\u001b[0m\u001b[0;32m    445\u001b[0m           \u001b[0mcbks\u001b[0m\u001b[1;33m.\u001b[0m\u001b[0mmake_logs\u001b[0m\u001b[1;33m(\u001b[0m\u001b[0mmodel\u001b[0m\u001b[1;33m,\u001b[0m \u001b[0mepoch_logs\u001b[0m\u001b[1;33m,\u001b[0m \u001b[0mresult\u001b[0m\u001b[1;33m,\u001b[0m \u001b[0mmode\u001b[0m\u001b[1;33m)\u001b[0m\u001b[1;33m\u001b[0m\u001b[1;33m\u001b[0m\u001b[0m\n\u001b[0;32m    446\u001b[0m \u001b[1;33m\u001b[0m\u001b[0m\n",
      "\u001b[1;32m~\\anaconda3\\envs\\env2\\lib\\site-packages\\tensorflow_core\\python\\keras\\engine\\training_v2.py\u001b[0m in \u001b[0;36mrun_one_epoch\u001b[1;34m(model, iterator, execution_function, dataset_size, batch_size, strategy, steps_per_epoch, num_samples, mode, training_context, total_epochs)\u001b[0m\n\u001b[0;32m    121\u001b[0m         step=step, mode=mode, size=current_batch_size) as batch_logs:\n\u001b[0;32m    122\u001b[0m       \u001b[1;32mtry\u001b[0m\u001b[1;33m:\u001b[0m\u001b[1;33m\u001b[0m\u001b[1;33m\u001b[0m\u001b[0m\n\u001b[1;32m--> 123\u001b[1;33m         \u001b[0mbatch_outs\u001b[0m \u001b[1;33m=\u001b[0m \u001b[0mexecution_function\u001b[0m\u001b[1;33m(\u001b[0m\u001b[0miterator\u001b[0m\u001b[1;33m)\u001b[0m\u001b[1;33m\u001b[0m\u001b[1;33m\u001b[0m\u001b[0m\n\u001b[0m\u001b[0;32m    124\u001b[0m       \u001b[1;32mexcept\u001b[0m \u001b[1;33m(\u001b[0m\u001b[0mStopIteration\u001b[0m\u001b[1;33m,\u001b[0m \u001b[0merrors\u001b[0m\u001b[1;33m.\u001b[0m\u001b[0mOutOfRangeError\u001b[0m\u001b[1;33m)\u001b[0m\u001b[1;33m:\u001b[0m\u001b[1;33m\u001b[0m\u001b[1;33m\u001b[0m\u001b[0m\n\u001b[0;32m    125\u001b[0m         \u001b[1;31m# TODO(kaftan): File bug about tf function and errors.OutOfRangeError?\u001b[0m\u001b[1;33m\u001b[0m\u001b[1;33m\u001b[0m\u001b[1;33m\u001b[0m\u001b[0m\n",
      "\u001b[1;32m~\\anaconda3\\envs\\env2\\lib\\site-packages\\tensorflow_core\\python\\keras\\engine\\training_v2_utils.py\u001b[0m in \u001b[0;36mexecution_function\u001b[1;34m(input_fn)\u001b[0m\n\u001b[0;32m     84\u001b[0m     \u001b[1;31m# `numpy` translates Tensors to values in Eager mode.\u001b[0m\u001b[1;33m\u001b[0m\u001b[1;33m\u001b[0m\u001b[1;33m\u001b[0m\u001b[0m\n\u001b[0;32m     85\u001b[0m     return nest.map_structure(_non_none_constant_value,\n\u001b[1;32m---> 86\u001b[1;33m                               distributed_function(input_fn))\n\u001b[0m\u001b[0;32m     87\u001b[0m \u001b[1;33m\u001b[0m\u001b[0m\n\u001b[0;32m     88\u001b[0m   \u001b[1;32mreturn\u001b[0m \u001b[0mexecution_function\u001b[0m\u001b[1;33m\u001b[0m\u001b[1;33m\u001b[0m\u001b[0m\n",
      "\u001b[1;32m~\\anaconda3\\envs\\env2\\lib\\site-packages\\tensorflow_core\\python\\eager\\def_function.py\u001b[0m in \u001b[0;36m__call__\u001b[1;34m(self, *args, **kwds)\u001b[0m\n\u001b[0;32m    455\u001b[0m \u001b[1;33m\u001b[0m\u001b[0m\n\u001b[0;32m    456\u001b[0m     \u001b[0mtracing_count\u001b[0m \u001b[1;33m=\u001b[0m \u001b[0mself\u001b[0m\u001b[1;33m.\u001b[0m\u001b[0m_get_tracing_count\u001b[0m\u001b[1;33m(\u001b[0m\u001b[1;33m)\u001b[0m\u001b[1;33m\u001b[0m\u001b[1;33m\u001b[0m\u001b[0m\n\u001b[1;32m--> 457\u001b[1;33m     \u001b[0mresult\u001b[0m \u001b[1;33m=\u001b[0m \u001b[0mself\u001b[0m\u001b[1;33m.\u001b[0m\u001b[0m_call\u001b[0m\u001b[1;33m(\u001b[0m\u001b[1;33m*\u001b[0m\u001b[0margs\u001b[0m\u001b[1;33m,\u001b[0m \u001b[1;33m**\u001b[0m\u001b[0mkwds\u001b[0m\u001b[1;33m)\u001b[0m\u001b[1;33m\u001b[0m\u001b[1;33m\u001b[0m\u001b[0m\n\u001b[0m\u001b[0;32m    458\u001b[0m     \u001b[1;32mif\u001b[0m \u001b[0mtracing_count\u001b[0m \u001b[1;33m==\u001b[0m \u001b[0mself\u001b[0m\u001b[1;33m.\u001b[0m\u001b[0m_get_tracing_count\u001b[0m\u001b[1;33m(\u001b[0m\u001b[1;33m)\u001b[0m\u001b[1;33m:\u001b[0m\u001b[1;33m\u001b[0m\u001b[1;33m\u001b[0m\u001b[0m\n\u001b[0;32m    459\u001b[0m       \u001b[0mself\u001b[0m\u001b[1;33m.\u001b[0m\u001b[0m_call_counter\u001b[0m\u001b[1;33m.\u001b[0m\u001b[0mcalled_without_tracing\u001b[0m\u001b[1;33m(\u001b[0m\u001b[1;33m)\u001b[0m\u001b[1;33m\u001b[0m\u001b[1;33m\u001b[0m\u001b[0m\n",
      "\u001b[1;32m~\\anaconda3\\envs\\env2\\lib\\site-packages\\tensorflow_core\\python\\eager\\def_function.py\u001b[0m in \u001b[0;36m_call\u001b[1;34m(self, *args, **kwds)\u001b[0m\n\u001b[0;32m    501\u001b[0m       \u001b[1;31m# This is the first call of __call__, so we have to initialize.\u001b[0m\u001b[1;33m\u001b[0m\u001b[1;33m\u001b[0m\u001b[1;33m\u001b[0m\u001b[0m\n\u001b[0;32m    502\u001b[0m       \u001b[0minitializer_map\u001b[0m \u001b[1;33m=\u001b[0m \u001b[0mobject_identity\u001b[0m\u001b[1;33m.\u001b[0m\u001b[0mObjectIdentityDictionary\u001b[0m\u001b[1;33m(\u001b[0m\u001b[1;33m)\u001b[0m\u001b[1;33m\u001b[0m\u001b[1;33m\u001b[0m\u001b[0m\n\u001b[1;32m--> 503\u001b[1;33m       \u001b[0mself\u001b[0m\u001b[1;33m.\u001b[0m\u001b[0m_initialize\u001b[0m\u001b[1;33m(\u001b[0m\u001b[0margs\u001b[0m\u001b[1;33m,\u001b[0m \u001b[0mkwds\u001b[0m\u001b[1;33m,\u001b[0m \u001b[0madd_initializers_to\u001b[0m\u001b[1;33m=\u001b[0m\u001b[0minitializer_map\u001b[0m\u001b[1;33m)\u001b[0m\u001b[1;33m\u001b[0m\u001b[1;33m\u001b[0m\u001b[0m\n\u001b[0m\u001b[0;32m    504\u001b[0m     \u001b[1;32mfinally\u001b[0m\u001b[1;33m:\u001b[0m\u001b[1;33m\u001b[0m\u001b[1;33m\u001b[0m\u001b[0m\n\u001b[0;32m    505\u001b[0m       \u001b[1;31m# At this point we know that the initialization is complete (or less\u001b[0m\u001b[1;33m\u001b[0m\u001b[1;33m\u001b[0m\u001b[1;33m\u001b[0m\u001b[0m\n",
      "\u001b[1;32m~\\anaconda3\\envs\\env2\\lib\\site-packages\\tensorflow_core\\python\\eager\\def_function.py\u001b[0m in \u001b[0;36m_initialize\u001b[1;34m(self, args, kwds, add_initializers_to)\u001b[0m\n\u001b[0;32m    406\u001b[0m     self._concrete_stateful_fn = (\n\u001b[0;32m    407\u001b[0m         self._stateful_fn._get_concrete_function_internal_garbage_collected(  # pylint: disable=protected-access\n\u001b[1;32m--> 408\u001b[1;33m             *args, **kwds))\n\u001b[0m\u001b[0;32m    409\u001b[0m \u001b[1;33m\u001b[0m\u001b[0m\n\u001b[0;32m    410\u001b[0m     \u001b[1;32mdef\u001b[0m \u001b[0minvalid_creator_scope\u001b[0m\u001b[1;33m(\u001b[0m\u001b[1;33m*\u001b[0m\u001b[0munused_args\u001b[0m\u001b[1;33m,\u001b[0m \u001b[1;33m**\u001b[0m\u001b[0munused_kwds\u001b[0m\u001b[1;33m)\u001b[0m\u001b[1;33m:\u001b[0m\u001b[1;33m\u001b[0m\u001b[1;33m\u001b[0m\u001b[0m\n",
      "\u001b[1;32m~\\anaconda3\\envs\\env2\\lib\\site-packages\\tensorflow_core\\python\\eager\\function.py\u001b[0m in \u001b[0;36m_get_concrete_function_internal_garbage_collected\u001b[1;34m(self, *args, **kwargs)\u001b[0m\n\u001b[0;32m   1846\u001b[0m     \u001b[1;32mif\u001b[0m \u001b[0mself\u001b[0m\u001b[1;33m.\u001b[0m\u001b[0minput_signature\u001b[0m\u001b[1;33m:\u001b[0m\u001b[1;33m\u001b[0m\u001b[1;33m\u001b[0m\u001b[0m\n\u001b[0;32m   1847\u001b[0m       \u001b[0margs\u001b[0m\u001b[1;33m,\u001b[0m \u001b[0mkwargs\u001b[0m \u001b[1;33m=\u001b[0m \u001b[1;32mNone\u001b[0m\u001b[1;33m,\u001b[0m \u001b[1;32mNone\u001b[0m\u001b[1;33m\u001b[0m\u001b[1;33m\u001b[0m\u001b[0m\n\u001b[1;32m-> 1848\u001b[1;33m     \u001b[0mgraph_function\u001b[0m\u001b[1;33m,\u001b[0m \u001b[0m_\u001b[0m\u001b[1;33m,\u001b[0m \u001b[0m_\u001b[0m \u001b[1;33m=\u001b[0m \u001b[0mself\u001b[0m\u001b[1;33m.\u001b[0m\u001b[0m_maybe_define_function\u001b[0m\u001b[1;33m(\u001b[0m\u001b[0margs\u001b[0m\u001b[1;33m,\u001b[0m \u001b[0mkwargs\u001b[0m\u001b[1;33m)\u001b[0m\u001b[1;33m\u001b[0m\u001b[1;33m\u001b[0m\u001b[0m\n\u001b[0m\u001b[0;32m   1849\u001b[0m     \u001b[1;32mreturn\u001b[0m \u001b[0mgraph_function\u001b[0m\u001b[1;33m\u001b[0m\u001b[1;33m\u001b[0m\u001b[0m\n\u001b[0;32m   1850\u001b[0m \u001b[1;33m\u001b[0m\u001b[0m\n",
      "\u001b[1;32m~\\anaconda3\\envs\\env2\\lib\\site-packages\\tensorflow_core\\python\\eager\\function.py\u001b[0m in \u001b[0;36m_maybe_define_function\u001b[1;34m(self, args, kwargs)\u001b[0m\n\u001b[0;32m   2148\u001b[0m         \u001b[0mgraph_function\u001b[0m \u001b[1;33m=\u001b[0m \u001b[0mself\u001b[0m\u001b[1;33m.\u001b[0m\u001b[0m_function_cache\u001b[0m\u001b[1;33m.\u001b[0m\u001b[0mprimary\u001b[0m\u001b[1;33m.\u001b[0m\u001b[0mget\u001b[0m\u001b[1;33m(\u001b[0m\u001b[0mcache_key\u001b[0m\u001b[1;33m,\u001b[0m \u001b[1;32mNone\u001b[0m\u001b[1;33m)\u001b[0m\u001b[1;33m\u001b[0m\u001b[1;33m\u001b[0m\u001b[0m\n\u001b[0;32m   2149\u001b[0m         \u001b[1;32mif\u001b[0m \u001b[0mgraph_function\u001b[0m \u001b[1;32mis\u001b[0m \u001b[1;32mNone\u001b[0m\u001b[1;33m:\u001b[0m\u001b[1;33m\u001b[0m\u001b[1;33m\u001b[0m\u001b[0m\n\u001b[1;32m-> 2150\u001b[1;33m           \u001b[0mgraph_function\u001b[0m \u001b[1;33m=\u001b[0m \u001b[0mself\u001b[0m\u001b[1;33m.\u001b[0m\u001b[0m_create_graph_function\u001b[0m\u001b[1;33m(\u001b[0m\u001b[0margs\u001b[0m\u001b[1;33m,\u001b[0m \u001b[0mkwargs\u001b[0m\u001b[1;33m)\u001b[0m\u001b[1;33m\u001b[0m\u001b[1;33m\u001b[0m\u001b[0m\n\u001b[0m\u001b[0;32m   2151\u001b[0m           \u001b[0mself\u001b[0m\u001b[1;33m.\u001b[0m\u001b[0m_function_cache\u001b[0m\u001b[1;33m.\u001b[0m\u001b[0mprimary\u001b[0m\u001b[1;33m[\u001b[0m\u001b[0mcache_key\u001b[0m\u001b[1;33m]\u001b[0m \u001b[1;33m=\u001b[0m \u001b[0mgraph_function\u001b[0m\u001b[1;33m\u001b[0m\u001b[1;33m\u001b[0m\u001b[0m\n\u001b[0;32m   2152\u001b[0m         \u001b[1;32mreturn\u001b[0m \u001b[0mgraph_function\u001b[0m\u001b[1;33m,\u001b[0m \u001b[0margs\u001b[0m\u001b[1;33m,\u001b[0m \u001b[0mkwargs\u001b[0m\u001b[1;33m\u001b[0m\u001b[1;33m\u001b[0m\u001b[0m\n",
      "\u001b[1;32m~\\anaconda3\\envs\\env2\\lib\\site-packages\\tensorflow_core\\python\\eager\\function.py\u001b[0m in \u001b[0;36m_create_graph_function\u001b[1;34m(self, args, kwargs, override_flat_arg_shapes)\u001b[0m\n\u001b[0;32m   2039\u001b[0m             \u001b[0marg_names\u001b[0m\u001b[1;33m=\u001b[0m\u001b[0marg_names\u001b[0m\u001b[1;33m,\u001b[0m\u001b[1;33m\u001b[0m\u001b[1;33m\u001b[0m\u001b[0m\n\u001b[0;32m   2040\u001b[0m             \u001b[0moverride_flat_arg_shapes\u001b[0m\u001b[1;33m=\u001b[0m\u001b[0moverride_flat_arg_shapes\u001b[0m\u001b[1;33m,\u001b[0m\u001b[1;33m\u001b[0m\u001b[1;33m\u001b[0m\u001b[0m\n\u001b[1;32m-> 2041\u001b[1;33m             capture_by_value=self._capture_by_value),\n\u001b[0m\u001b[0;32m   2042\u001b[0m         \u001b[0mself\u001b[0m\u001b[1;33m.\u001b[0m\u001b[0m_function_attributes\u001b[0m\u001b[1;33m,\u001b[0m\u001b[1;33m\u001b[0m\u001b[1;33m\u001b[0m\u001b[0m\n\u001b[0;32m   2043\u001b[0m         \u001b[1;31m# Tell the ConcreteFunction to clean up its graph once it goes out of\u001b[0m\u001b[1;33m\u001b[0m\u001b[1;33m\u001b[0m\u001b[1;33m\u001b[0m\u001b[0m\n",
      "\u001b[1;32m~\\anaconda3\\envs\\env2\\lib\\site-packages\\tensorflow_core\\python\\framework\\func_graph.py\u001b[0m in \u001b[0;36mfunc_graph_from_py_func\u001b[1;34m(name, python_func, args, kwargs, signature, func_graph, autograph, autograph_options, add_control_dependencies, arg_names, op_return_value, collections, capture_by_value, override_flat_arg_shapes)\u001b[0m\n\u001b[0;32m    913\u001b[0m                                           converted_func)\n\u001b[0;32m    914\u001b[0m \u001b[1;33m\u001b[0m\u001b[0m\n\u001b[1;32m--> 915\u001b[1;33m       \u001b[0mfunc_outputs\u001b[0m \u001b[1;33m=\u001b[0m \u001b[0mpython_func\u001b[0m\u001b[1;33m(\u001b[0m\u001b[1;33m*\u001b[0m\u001b[0mfunc_args\u001b[0m\u001b[1;33m,\u001b[0m \u001b[1;33m**\u001b[0m\u001b[0mfunc_kwargs\u001b[0m\u001b[1;33m)\u001b[0m\u001b[1;33m\u001b[0m\u001b[1;33m\u001b[0m\u001b[0m\n\u001b[0m\u001b[0;32m    916\u001b[0m \u001b[1;33m\u001b[0m\u001b[0m\n\u001b[0;32m    917\u001b[0m       \u001b[1;31m# invariant: `func_outputs` contains only Tensors, CompositeTensors,\u001b[0m\u001b[1;33m\u001b[0m\u001b[1;33m\u001b[0m\u001b[1;33m\u001b[0m\u001b[0m\n",
      "\u001b[1;32m~\\anaconda3\\envs\\env2\\lib\\site-packages\\tensorflow_core\\python\\eager\\def_function.py\u001b[0m in \u001b[0;36mwrapped_fn\u001b[1;34m(*args, **kwds)\u001b[0m\n\u001b[0;32m    356\u001b[0m         \u001b[1;31m# __wrapped__ allows AutoGraph to swap in a converted function. We give\u001b[0m\u001b[1;33m\u001b[0m\u001b[1;33m\u001b[0m\u001b[1;33m\u001b[0m\u001b[0m\n\u001b[0;32m    357\u001b[0m         \u001b[1;31m# the function a weak reference to itself to avoid a reference cycle.\u001b[0m\u001b[1;33m\u001b[0m\u001b[1;33m\u001b[0m\u001b[1;33m\u001b[0m\u001b[0m\n\u001b[1;32m--> 358\u001b[1;33m         \u001b[1;32mreturn\u001b[0m \u001b[0mweak_wrapped_fn\u001b[0m\u001b[1;33m(\u001b[0m\u001b[1;33m)\u001b[0m\u001b[1;33m.\u001b[0m\u001b[0m__wrapped__\u001b[0m\u001b[1;33m(\u001b[0m\u001b[1;33m*\u001b[0m\u001b[0margs\u001b[0m\u001b[1;33m,\u001b[0m \u001b[1;33m**\u001b[0m\u001b[0mkwds\u001b[0m\u001b[1;33m)\u001b[0m\u001b[1;33m\u001b[0m\u001b[1;33m\u001b[0m\u001b[0m\n\u001b[0m\u001b[0;32m    359\u001b[0m     \u001b[0mweak_wrapped_fn\u001b[0m \u001b[1;33m=\u001b[0m \u001b[0mweakref\u001b[0m\u001b[1;33m.\u001b[0m\u001b[0mref\u001b[0m\u001b[1;33m(\u001b[0m\u001b[0mwrapped_fn\u001b[0m\u001b[1;33m)\u001b[0m\u001b[1;33m\u001b[0m\u001b[1;33m\u001b[0m\u001b[0m\n\u001b[0;32m    360\u001b[0m \u001b[1;33m\u001b[0m\u001b[0m\n",
      "\u001b[1;32m~\\anaconda3\\envs\\env2\\lib\\site-packages\\tensorflow_core\\python\\keras\\engine\\training_v2_utils.py\u001b[0m in \u001b[0;36mdistributed_function\u001b[1;34m(input_iterator)\u001b[0m\n\u001b[0;32m     71\u001b[0m     \u001b[0mstrategy\u001b[0m \u001b[1;33m=\u001b[0m \u001b[0mdistribution_strategy_context\u001b[0m\u001b[1;33m.\u001b[0m\u001b[0mget_strategy\u001b[0m\u001b[1;33m(\u001b[0m\u001b[1;33m)\u001b[0m\u001b[1;33m\u001b[0m\u001b[1;33m\u001b[0m\u001b[0m\n\u001b[0;32m     72\u001b[0m     outputs = strategy.experimental_run_v2(\n\u001b[1;32m---> 73\u001b[1;33m         per_replica_function, args=(model, x, y, sample_weights))\n\u001b[0m\u001b[0;32m     74\u001b[0m     \u001b[1;31m# Out of PerReplica outputs reduce or pick values to return.\u001b[0m\u001b[1;33m\u001b[0m\u001b[1;33m\u001b[0m\u001b[1;33m\u001b[0m\u001b[0m\n\u001b[0;32m     75\u001b[0m     all_outputs = dist_utils.unwrap_output_dict(\n",
      "\u001b[1;32m~\\anaconda3\\envs\\env2\\lib\\site-packages\\tensorflow_core\\python\\distribute\\distribute_lib.py\u001b[0m in \u001b[0;36mexperimental_run_v2\u001b[1;34m(self, fn, args, kwargs)\u001b[0m\n\u001b[0;32m    758\u001b[0m       fn = autograph.tf_convert(fn, ag_ctx.control_status_ctx(),\n\u001b[0;32m    759\u001b[0m                                 convert_by_default=False)\n\u001b[1;32m--> 760\u001b[1;33m       \u001b[1;32mreturn\u001b[0m \u001b[0mself\u001b[0m\u001b[1;33m.\u001b[0m\u001b[0m_extended\u001b[0m\u001b[1;33m.\u001b[0m\u001b[0mcall_for_each_replica\u001b[0m\u001b[1;33m(\u001b[0m\u001b[0mfn\u001b[0m\u001b[1;33m,\u001b[0m \u001b[0margs\u001b[0m\u001b[1;33m=\u001b[0m\u001b[0margs\u001b[0m\u001b[1;33m,\u001b[0m \u001b[0mkwargs\u001b[0m\u001b[1;33m=\u001b[0m\u001b[0mkwargs\u001b[0m\u001b[1;33m)\u001b[0m\u001b[1;33m\u001b[0m\u001b[1;33m\u001b[0m\u001b[0m\n\u001b[0m\u001b[0;32m    761\u001b[0m \u001b[1;33m\u001b[0m\u001b[0m\n\u001b[0;32m    762\u001b[0m   \u001b[1;32mdef\u001b[0m \u001b[0mreduce\u001b[0m\u001b[1;33m(\u001b[0m\u001b[0mself\u001b[0m\u001b[1;33m,\u001b[0m \u001b[0mreduce_op\u001b[0m\u001b[1;33m,\u001b[0m \u001b[0mvalue\u001b[0m\u001b[1;33m,\u001b[0m \u001b[0maxis\u001b[0m\u001b[1;33m)\u001b[0m\u001b[1;33m:\u001b[0m\u001b[1;33m\u001b[0m\u001b[1;33m\u001b[0m\u001b[0m\n",
      "\u001b[1;32m~\\anaconda3\\envs\\env2\\lib\\site-packages\\tensorflow_core\\python\\distribute\\distribute_lib.py\u001b[0m in \u001b[0;36mcall_for_each_replica\u001b[1;34m(self, fn, args, kwargs)\u001b[0m\n\u001b[0;32m   1785\u001b[0m       \u001b[0mkwargs\u001b[0m \u001b[1;33m=\u001b[0m \u001b[1;33m{\u001b[0m\u001b[1;33m}\u001b[0m\u001b[1;33m\u001b[0m\u001b[1;33m\u001b[0m\u001b[0m\n\u001b[0;32m   1786\u001b[0m     \u001b[1;32mwith\u001b[0m \u001b[0mself\u001b[0m\u001b[1;33m.\u001b[0m\u001b[0m_container_strategy\u001b[0m\u001b[1;33m(\u001b[0m\u001b[1;33m)\u001b[0m\u001b[1;33m.\u001b[0m\u001b[0mscope\u001b[0m\u001b[1;33m(\u001b[0m\u001b[1;33m)\u001b[0m\u001b[1;33m:\u001b[0m\u001b[1;33m\u001b[0m\u001b[1;33m\u001b[0m\u001b[0m\n\u001b[1;32m-> 1787\u001b[1;33m       \u001b[1;32mreturn\u001b[0m \u001b[0mself\u001b[0m\u001b[1;33m.\u001b[0m\u001b[0m_call_for_each_replica\u001b[0m\u001b[1;33m(\u001b[0m\u001b[0mfn\u001b[0m\u001b[1;33m,\u001b[0m \u001b[0margs\u001b[0m\u001b[1;33m,\u001b[0m \u001b[0mkwargs\u001b[0m\u001b[1;33m)\u001b[0m\u001b[1;33m\u001b[0m\u001b[1;33m\u001b[0m\u001b[0m\n\u001b[0m\u001b[0;32m   1788\u001b[0m \u001b[1;33m\u001b[0m\u001b[0m\n\u001b[0;32m   1789\u001b[0m   \u001b[1;32mdef\u001b[0m \u001b[0m_call_for_each_replica\u001b[0m\u001b[1;33m(\u001b[0m\u001b[0mself\u001b[0m\u001b[1;33m,\u001b[0m \u001b[0mfn\u001b[0m\u001b[1;33m,\u001b[0m \u001b[0margs\u001b[0m\u001b[1;33m,\u001b[0m \u001b[0mkwargs\u001b[0m\u001b[1;33m)\u001b[0m\u001b[1;33m:\u001b[0m\u001b[1;33m\u001b[0m\u001b[1;33m\u001b[0m\u001b[0m\n",
      "\u001b[1;32m~\\anaconda3\\envs\\env2\\lib\\site-packages\\tensorflow_core\\python\\distribute\\distribute_lib.py\u001b[0m in \u001b[0;36m_call_for_each_replica\u001b[1;34m(self, fn, args, kwargs)\u001b[0m\n\u001b[0;32m   2130\u001b[0m         \u001b[0mself\u001b[0m\u001b[1;33m.\u001b[0m\u001b[0m_container_strategy\u001b[0m\u001b[1;33m(\u001b[0m\u001b[1;33m)\u001b[0m\u001b[1;33m,\u001b[0m\u001b[1;33m\u001b[0m\u001b[1;33m\u001b[0m\u001b[0m\n\u001b[0;32m   2131\u001b[0m         replica_id_in_sync_group=constant_op.constant(0, dtypes.int32)):\n\u001b[1;32m-> 2132\u001b[1;33m       \u001b[1;32mreturn\u001b[0m \u001b[0mfn\u001b[0m\u001b[1;33m(\u001b[0m\u001b[1;33m*\u001b[0m\u001b[0margs\u001b[0m\u001b[1;33m,\u001b[0m \u001b[1;33m**\u001b[0m\u001b[0mkwargs\u001b[0m\u001b[1;33m)\u001b[0m\u001b[1;33m\u001b[0m\u001b[1;33m\u001b[0m\u001b[0m\n\u001b[0m\u001b[0;32m   2133\u001b[0m \u001b[1;33m\u001b[0m\u001b[0m\n\u001b[0;32m   2134\u001b[0m   \u001b[1;32mdef\u001b[0m \u001b[0m_reduce_to\u001b[0m\u001b[1;33m(\u001b[0m\u001b[0mself\u001b[0m\u001b[1;33m,\u001b[0m \u001b[0mreduce_op\u001b[0m\u001b[1;33m,\u001b[0m \u001b[0mvalue\u001b[0m\u001b[1;33m,\u001b[0m \u001b[0mdestinations\u001b[0m\u001b[1;33m)\u001b[0m\u001b[1;33m:\u001b[0m\u001b[1;33m\u001b[0m\u001b[1;33m\u001b[0m\u001b[0m\n",
      "\u001b[1;32m~\\anaconda3\\envs\\env2\\lib\\site-packages\\tensorflow_core\\python\\autograph\\impl\\api.py\u001b[0m in \u001b[0;36mwrapper\u001b[1;34m(*args, **kwargs)\u001b[0m\n\u001b[0;32m    290\u001b[0m   \u001b[1;32mdef\u001b[0m \u001b[0mwrapper\u001b[0m\u001b[1;33m(\u001b[0m\u001b[1;33m*\u001b[0m\u001b[0margs\u001b[0m\u001b[1;33m,\u001b[0m \u001b[1;33m**\u001b[0m\u001b[0mkwargs\u001b[0m\u001b[1;33m)\u001b[0m\u001b[1;33m:\u001b[0m\u001b[1;33m\u001b[0m\u001b[1;33m\u001b[0m\u001b[0m\n\u001b[0;32m    291\u001b[0m     \u001b[1;32mwith\u001b[0m \u001b[0mag_ctx\u001b[0m\u001b[1;33m.\u001b[0m\u001b[0mControlStatusCtx\u001b[0m\u001b[1;33m(\u001b[0m\u001b[0mstatus\u001b[0m\u001b[1;33m=\u001b[0m\u001b[0mag_ctx\u001b[0m\u001b[1;33m.\u001b[0m\u001b[0mStatus\u001b[0m\u001b[1;33m.\u001b[0m\u001b[0mDISABLED\u001b[0m\u001b[1;33m)\u001b[0m\u001b[1;33m:\u001b[0m\u001b[1;33m\u001b[0m\u001b[1;33m\u001b[0m\u001b[0m\n\u001b[1;32m--> 292\u001b[1;33m       \u001b[1;32mreturn\u001b[0m \u001b[0mfunc\u001b[0m\u001b[1;33m(\u001b[0m\u001b[1;33m*\u001b[0m\u001b[0margs\u001b[0m\u001b[1;33m,\u001b[0m \u001b[1;33m**\u001b[0m\u001b[0mkwargs\u001b[0m\u001b[1;33m)\u001b[0m\u001b[1;33m\u001b[0m\u001b[1;33m\u001b[0m\u001b[0m\n\u001b[0m\u001b[0;32m    293\u001b[0m \u001b[1;33m\u001b[0m\u001b[0m\n\u001b[0;32m    294\u001b[0m   \u001b[1;32mif\u001b[0m \u001b[0minspect\u001b[0m\u001b[1;33m.\u001b[0m\u001b[0misfunction\u001b[0m\u001b[1;33m(\u001b[0m\u001b[0mfunc\u001b[0m\u001b[1;33m)\u001b[0m \u001b[1;32mor\u001b[0m \u001b[0minspect\u001b[0m\u001b[1;33m.\u001b[0m\u001b[0mismethod\u001b[0m\u001b[1;33m(\u001b[0m\u001b[0mfunc\u001b[0m\u001b[1;33m)\u001b[0m\u001b[1;33m:\u001b[0m\u001b[1;33m\u001b[0m\u001b[1;33m\u001b[0m\u001b[0m\n",
      "\u001b[1;32m~\\anaconda3\\envs\\env2\\lib\\site-packages\\tensorflow_core\\python\\keras\\engine\\training_v2_utils.py\u001b[0m in \u001b[0;36m_predict_on_batch\u001b[1;34m(***failed resolving arguments***)\u001b[0m\n\u001b[0;32m    160\u001b[0m     \u001b[1;32mdef\u001b[0m \u001b[0m_predict_on_batch\u001b[0m\u001b[1;33m(\u001b[0m\u001b[0mmodel\u001b[0m\u001b[1;33m,\u001b[0m \u001b[0mx\u001b[0m\u001b[1;33m,\u001b[0m \u001b[0my\u001b[0m\u001b[1;33m=\u001b[0m\u001b[1;32mNone\u001b[0m\u001b[1;33m,\u001b[0m \u001b[0msample_weights\u001b[0m\u001b[1;33m=\u001b[0m\u001b[1;32mNone\u001b[0m\u001b[1;33m)\u001b[0m\u001b[1;33m:\u001b[0m\u001b[1;33m\u001b[0m\u001b[1;33m\u001b[0m\u001b[0m\n\u001b[0;32m    161\u001b[0m       \u001b[1;32mdel\u001b[0m \u001b[0my\u001b[0m\u001b[1;33m,\u001b[0m \u001b[0msample_weights\u001b[0m\u001b[1;33m\u001b[0m\u001b[1;33m\u001b[0m\u001b[0m\n\u001b[1;32m--> 162\u001b[1;33m       \u001b[1;32mreturn\u001b[0m \u001b[0mpredict_on_batch\u001b[0m\u001b[1;33m(\u001b[0m\u001b[0mmodel\u001b[0m\u001b[1;33m,\u001b[0m \u001b[0mx\u001b[0m\u001b[1;33m)\u001b[0m\u001b[1;33m\u001b[0m\u001b[1;33m\u001b[0m\u001b[0m\n\u001b[0m\u001b[0;32m    163\u001b[0m \u001b[1;33m\u001b[0m\u001b[0m\n\u001b[0;32m    164\u001b[0m     \u001b[0mfunc\u001b[0m \u001b[1;33m=\u001b[0m \u001b[0m_predict_on_batch\u001b[0m\u001b[1;33m\u001b[0m\u001b[1;33m\u001b[0m\u001b[0m\n",
      "\u001b[1;32m~\\anaconda3\\envs\\env2\\lib\\site-packages\\tensorflow_core\\python\\keras\\engine\\training_v2_utils.py\u001b[0m in \u001b[0;36mpredict_on_batch\u001b[1;34m(model, x)\u001b[0m\n\u001b[0;32m    357\u001b[0m   \u001b[1;31m# Validate and standardize user data.\u001b[0m\u001b[1;33m\u001b[0m\u001b[1;33m\u001b[0m\u001b[1;33m\u001b[0m\u001b[0m\n\u001b[0;32m    358\u001b[0m   inputs, _, _ = model._standardize_user_data(\n\u001b[1;32m--> 359\u001b[1;33m       x, extract_tensors_from_dataset=True)\n\u001b[0m\u001b[0;32m    360\u001b[0m \u001b[1;33m\u001b[0m\u001b[0m\n\u001b[0;32m    361\u001b[0m   \u001b[1;31m# If `model._distribution_strategy` is True, then we are in a replica context\u001b[0m\u001b[1;33m\u001b[0m\u001b[1;33m\u001b[0m\u001b[1;33m\u001b[0m\u001b[0m\n",
      "\u001b[1;32m~\\anaconda3\\envs\\env2\\lib\\site-packages\\tensorflow_core\\python\\keras\\engine\\training.py\u001b[0m in \u001b[0;36m_standardize_user_data\u001b[1;34m(self, x, y, sample_weight, class_weight, batch_size, check_steps, steps_name, steps, validation_split, shuffle, extract_tensors_from_dataset)\u001b[0m\n\u001b[0;32m   2470\u001b[0m           \u001b[0mfeed_input_shapes\u001b[0m\u001b[1;33m,\u001b[0m\u001b[1;33m\u001b[0m\u001b[1;33m\u001b[0m\u001b[0m\n\u001b[0;32m   2471\u001b[0m           \u001b[0mcheck_batch_axis\u001b[0m\u001b[1;33m=\u001b[0m\u001b[1;32mFalse\u001b[0m\u001b[1;33m,\u001b[0m  \u001b[1;31m# Don't enforce the batch size.\u001b[0m\u001b[1;33m\u001b[0m\u001b[1;33m\u001b[0m\u001b[0m\n\u001b[1;32m-> 2472\u001b[1;33m           exception_prefix='input')\n\u001b[0m\u001b[0;32m   2473\u001b[0m \u001b[1;33m\u001b[0m\u001b[0m\n\u001b[0;32m   2474\u001b[0m     \u001b[1;31m# Get typespecs for the input data and sanitize it if necessary.\u001b[0m\u001b[1;33m\u001b[0m\u001b[1;33m\u001b[0m\u001b[1;33m\u001b[0m\u001b[0m\n",
      "\u001b[1;32m~\\anaconda3\\envs\\env2\\lib\\site-packages\\tensorflow_core\\python\\keras\\engine\\training_utils.py\u001b[0m in \u001b[0;36mstandardize_input_data\u001b[1;34m(data, names, shapes, check_batch_axis, exception_prefix)\u001b[0m\n\u001b[0;32m    563\u001b[0m                            \u001b[1;34m': expected '\u001b[0m \u001b[1;33m+\u001b[0m \u001b[0mnames\u001b[0m\u001b[1;33m[\u001b[0m\u001b[0mi\u001b[0m\u001b[1;33m]\u001b[0m \u001b[1;33m+\u001b[0m \u001b[1;34m' to have '\u001b[0m \u001b[1;33m+\u001b[0m\u001b[1;33m\u001b[0m\u001b[1;33m\u001b[0m\u001b[0m\n\u001b[0;32m    564\u001b[0m                            \u001b[0mstr\u001b[0m\u001b[1;33m(\u001b[0m\u001b[0mlen\u001b[0m\u001b[1;33m(\u001b[0m\u001b[0mshape\u001b[0m\u001b[1;33m)\u001b[0m\u001b[1;33m)\u001b[0m \u001b[1;33m+\u001b[0m \u001b[1;34m' dimensions, but got array '\u001b[0m\u001b[1;33m\u001b[0m\u001b[1;33m\u001b[0m\u001b[0m\n\u001b[1;32m--> 565\u001b[1;33m                            'with shape ' + str(data_shape))\n\u001b[0m\u001b[0;32m    566\u001b[0m         \u001b[1;32mif\u001b[0m \u001b[1;32mnot\u001b[0m \u001b[0mcheck_batch_axis\u001b[0m\u001b[1;33m:\u001b[0m\u001b[1;33m\u001b[0m\u001b[1;33m\u001b[0m\u001b[0m\n\u001b[0;32m    567\u001b[0m           \u001b[0mdata_shape\u001b[0m \u001b[1;33m=\u001b[0m \u001b[0mdata_shape\u001b[0m\u001b[1;33m[\u001b[0m\u001b[1;36m1\u001b[0m\u001b[1;33m:\u001b[0m\u001b[1;33m]\u001b[0m\u001b[1;33m\u001b[0m\u001b[1;33m\u001b[0m\u001b[0m\n",
      "\u001b[1;31mValueError\u001b[0m: Error when checking input: expected bra_size to have 1 dimensions, but got array with shape ()"
     ]
    }
   ],
   "source": [
    "# train.loc[1,]\n",
    "# x=[]\n",
    "# n=0\n",
    "# for i in input_user:\n",
    "#     if(n<2):\n",
    "#         a=float(train.loc[1,:][i])\n",
    "#     else:\n",
    "#         a=train.loc[1,:][i]\n",
    "#     x.append(a)\n",
    "#     n+=1\n",
    "# n=0\n",
    "# for i in input_items:\n",
    "#     if(n<2):\n",
    "#         a=float(train.loc[1,:][i])\n",
    "#     else:\n",
    "#         a=train.loc[1,:][i]\n",
    "#     x.append(a)\n",
    "#     n+=1\n",
    "# print(x)\n",
    "np.set_printoptions(threshold=10)\n",
    "# print(asha)\n",
    "model.predict(ds1)\n"
   ]
  },
  {
   "cell_type": "markdown",
   "metadata": {
    "colab_type": "text",
    "id": "7lU8gUOHDMJ0"
   },
   "source": [
    "# Vizualize the training layers"
   ]
  },
  {
   "cell_type": "code",
   "execution_count": null,
   "metadata": {
    "colab": {
     "base_uri": "https://localhost:8080/",
     "height": 507
    },
    "colab_type": "code",
    "id": "U6ATLYi_Dnha",
    "outputId": "d382faad-44f8-4d1d-bdee-4f4e2a7eb06b"
   },
   "outputs": [],
   "source": [
    "auc = history.history['auc']\n",
    "val_auc = history.history['val_auc']\n",
    "\n",
    "loss = history.history['loss']\n",
    "val_loss = history.history['val_loss']\n",
    "\n",
    "epochs_range = range(15)\n",
    "\n",
    "plt.subplot(1, 2, 1)\n",
    "plt.plot(epochs_range, auc, label='Training Accuracy')\n",
    "plt.plot(epochs_range, val_auc, label='Validation Accuracy')\n",
    "plt.legend(loc='lower right')\n",
    "plt.title('Training and Validation Accuracy')\n",
    "\n",
    "plt.subplot(1, 2, 2)\n",
    "plt.plot(epochs_range, loss, label='Training Loss')\n",
    "plt.plot(epochs_range, val_loss, label='Validation Loss')\n",
    "plt.legend(loc='upper right')\n",
    "plt.title('Training and Validation Loss')\n",
    "plt.show()"
   ]
  },
  {
   "cell_type": "code",
   "execution_count": null,
   "metadata": {
    "colab": {},
    "colab_type": "code",
    "id": "4i9v44y37xZ2"
   },
   "outputs": [],
   "source": [
    "# Let us see how we can handle the review_text (since this has been ignored in the paper)\n",
    "# Proposing a text classification based model which uses review_text to predict the \"fit\"\n",
    "#Since here we are only using review_text as a column we will be removing all the null or \"Unknown\" values\n",
    "modcloth_df_text = modcloth_df[~modcloth_df.review_text.isin([\"Unknown\"])][[\"review_text\",\"fit\"]]"
   ]
  },
  {
   "cell_type": "markdown",
   "metadata": {
    "colab_type": "text",
    "id": "oySYru-TWrEg"
   },
   "source": [
    "# Experimenting with text classifcation algorithms,\n",
    "- Transfer Learning based (Transformers) :- Bert, ULMFit, GPT\n",
    "\n",
    "There can be a lot other forms of doing text classification (mainly better feature engineering(topic models, tf-idf, syntax based), but then it will be altogether a new problem."
   ]
  },
  {
   "cell_type": "code",
   "execution_count": null,
   "metadata": {
    "colab": {},
    "colab_type": "code",
    "id": "5miHQ_ytXSQy"
   },
   "outputs": [],
   "source": [
    "# Split into train and validation dataset\n",
    "train_text, val_text = train_test_split(modcloth_df_text, test_size=0.2)"
   ]
  },
  {
   "cell_type": "code",
   "execution_count": null,
   "metadata": {
    "colab": {},
    "colab_type": "code",
    "id": "oJ6wXRZcTn6A"
   },
   "outputs": [],
   "source": [
    "# 2) Create a input pipeline using tf.data\n",
    "# A utility method to create a tf.data dataset from a Pandas Dataframe\n",
    "import copy\n",
    "def df_to_dataset(dataframe, shuffle=True, batch_size=32):\n",
    "  dataframe = dataframe.copy()\n",
    "  labels = dataframe.pop('fit')\n",
    "  labels = labels.apply(lambda x:x == CLASS_LABELS)\n",
    "  ds = tf.data.Dataset.from_tensor_slices((dataframe.review_text.values, labels))\n",
    "  if shuffle:\n",
    "    ds = ds.shuffle(buffer_size=len(dataframe))\n",
    "  ds = ds.batch(batch_size)\n",
    "  #prefetching was giving some trouble on google colab,\n",
    "  #there might be some issue with some gdfs, hence not here\n",
    "  return ds\n",
    "train_ds_text = df_to_dataset(train_text, batch_size = 32)\n",
    "val_ds_text = df_to_dataset(val_text, batch_size = 32)"
   ]
  },
  {
   "cell_type": "code",
   "execution_count": null,
   "metadata": {
    "colab": {},
    "colab_type": "code",
    "id": "06l0QG_JSV4u"
   },
   "outputs": [],
   "source": [
    "import tensorflow_hub as hub"
   ]
  },
  {
   "cell_type": "code",
   "execution_count": null,
   "metadata": {
    "colab": {},
    "colab_type": "code",
    "id": "gomcLXJHGiW-"
   },
   "outputs": [],
   "source": [
    "# # Pre-trained Embedding\n",
    "# model_embedding = keras.Sequential([\n",
    "#     hub.KerasLayer(\"https://tfhub.dev/google/tf2-preview/nnlm-en-dim128/1\",\n",
    "#                    dtype=tf.string, input_shape=[], output_shape=[128]),\n",
    "#     keras.layers.Dense(128, activation=\"relu\"),\n",
    "#     keras.layers.Dense(64, activation=\"relu\"),\n",
    "#     keras.layers.Dense(64, activation=\"relu\"),\n",
    "#     keras.layers.Dense(32, activation=\"relu\"),\n",
    "#     keras.layers.Dense(10, activation=\"relu\"),\n",
    "#     keras.layers.Dense(3, activation=\"sigmoid\")\n",
    "# ])\n",
    "\n",
    "model_embedding = keras.Sequential([\n",
    "    hub.KerasLayer(\"https://tfhub.dev/google/universal-sentence-encoder/4\",\n",
    "                   dtype=tf.string, input_shape=[], output_shape=[512]),\n",
    "    keras.layers.Dense(256, activation=\"relu\"),\n",
    "    keras.layers.Dense(128, activation=\"relu\"),\n",
    "    keras.layers.Dense(128, activation=\"relu\"),\n",
    "    keras.layers.Dense(64, activation=\"relu\"),\n",
    "    keras.layers.Dense(32, activation=\"relu\"),\n",
    "    keras.layers.Dense(10, activation=\"relu\"),\n",
    "    keras.layers.Dense(3, activation=\"sigmoid\")\n",
    "])\n"
   ]
  },
  {
   "cell_type": "code",
   "execution_count": null,
   "metadata": {
    "colab": {},
    "colab_type": "code",
    "id": "GiJW1QUIZL9C"
   },
   "outputs": [],
   "source": [
    "# Another control put in place to handle overfitting\n",
    "early_stopping = tf.keras.callbacks.EarlyStopping(\n",
    "    monitor='val_auc', \n",
    "    verbose=1,\n",
    "    patience=10,\n",
    "    mode='max',\n",
    "    restore_best_weights=True)\n",
    "\n",
    "METRICS = [\n",
    "      keras.metrics.TruePositives(name='tp'),\n",
    "      keras.metrics.FalsePositives(name='fp'),\n",
    "      keras.metrics.TrueNegatives(name='tn'),\n",
    "      keras.metrics.FalseNegatives(name='fn'), \n",
    "      keras.metrics.BinaryAccuracy(name='accuracy'),\n",
    "      keras.metrics.Precision(name='precision'),\n",
    "      keras.metrics.Recall(name='recall'),\n",
    "      keras.metrics.AUC(name='auc'),\n",
    "]\n",
    "optimizer = keras.optimizers.SGD(lr=0.1, momentum=0.9, decay=0.01)\n",
    "model_embedding.compile(optimizer= optimizer,\n",
    "              loss='categorical_crossentropy',\n",
    "              metrics=METRICS,\n",
    "              callbacks = [early_stopping])"
   ]
  },
  {
   "cell_type": "code",
   "execution_count": null,
   "metadata": {
    "colab": {
     "base_uri": "https://localhost:8080/",
     "height": 420
    },
    "colab_type": "code",
    "id": "pYUtMyz2gTZN",
    "outputId": "5b9508dd-815b-4a2a-dab0-59b02f5928e5"
   },
   "outputs": [],
   "source": [
    "model_embedding.summary()"
   ]
  },
  {
   "cell_type": "code",
   "execution_count": null,
   "metadata": {
    "colab": {
     "base_uri": "https://localhost:8080/",
     "height": 541
    },
    "colab_type": "code",
    "id": "Mq0NUOPFKryc",
    "outputId": "0db79c90-8d32-4251-aef3-c3b22352aea2"
   },
   "outputs": [],
   "source": [
    "history = model_embedding.fit(train_ds_text,\n",
    "          validation_data=val_ds_text,\n",
    "          epochs=15)"
   ]
  },
  {
   "cell_type": "code",
   "execution_count": null,
   "metadata": {
    "colab": {},
    "colab_type": "code",
    "id": "ZGCwT5qdXv5c"
   },
   "outputs": [],
   "source": [
    "from datetime import date,datetime\n",
    "today = datetime.now().strftime(\"%d%m%Y_%H%M%S\")\n",
    "model_dir = os.path.join(BASE_MODEL_PATH,\"Text\",today+'_text_model.h5')"
   ]
  },
  {
   "cell_type": "code",
   "execution_count": null,
   "metadata": {
    "colab": {
     "base_uri": "https://localhost:8080/",
     "height": 507
    },
    "colab_type": "code",
    "id": "17cE8hV6A0JM",
    "outputId": "1f38daaf-1a2f-4e2b-9826-64934c270640"
   },
   "outputs": [],
   "source": [
    "auc = history.history['auc']\n",
    "val_auc = history.history['val_auc']\n",
    "\n",
    "loss = history.history['loss']\n",
    "val_loss = history.history['val_loss']\n",
    "\n",
    "epochs_range = range(15)\n",
    "\n",
    "plt.subplot(1, 2, 1)\n",
    "plt.plot(epochs_range, auc, label='Training Accuracy')\n",
    "plt.plot(epochs_range, val_auc, label='Validation Accuracy')\n",
    "plt.legend(loc='lower right')\n",
    "plt.title('Training and Validation Accuracy')\n",
    "\n",
    "plt.subplot(1, 2, 2)\n",
    "plt.plot(epochs_range, loss, label='Training Loss')\n",
    "plt.plot(epochs_range, val_loss, label='Validation Loss')\n",
    "plt.legend(loc='upper right')\n",
    "plt.title('Training and Validation Loss')\n",
    "plt.show()"
   ]
  },
  {
   "cell_type": "code",
   "execution_count": null,
   "metadata": {
    "colab": {},
    "colab_type": "code",
    "id": "ZtghEwxELT08"
   },
   "outputs": [],
   "source": [
    "# Save the model\n",
    "model_embedding.save(model_dir)\n",
    "\n",
    "# Recreate the exact same model purely from the file\n",
    "# text_model = tf.keras.models.load_model(model_dir, custom_objects={'KerasLayer':hub.KerasLayer})"
   ]
  }
 ],
 "metadata": {
  "colab": {
   "collapsed_sections": [],
   "name": "Copy of fashion_product_recosys_v1_forcouture.ipynb",
   "provenance": []
  },
  "kernelspec": {
   "display_name": "Python 3",
   "language": "python",
   "name": "python3"
  },
  "language_info": {
   "codemirror_mode": {
    "name": "ipython",
    "version": 3
   },
   "file_extension": ".py",
   "mimetype": "text/x-python",
   "name": "python",
   "nbconvert_exporter": "python",
   "pygments_lexer": "ipython3",
   "version": "3.7.7"
  }
 },
 "nbformat": 4,
 "nbformat_minor": 1
}
